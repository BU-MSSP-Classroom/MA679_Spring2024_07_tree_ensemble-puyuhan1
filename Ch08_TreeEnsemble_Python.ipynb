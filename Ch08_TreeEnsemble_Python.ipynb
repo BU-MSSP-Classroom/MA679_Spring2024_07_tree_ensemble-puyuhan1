{
 "cells": [
  {
   "cell_type": "markdown",
   "id": "d44e3904",
   "metadata": {},
   "source": [
    "# Class Workbook {.tabset .tabset-fade .tabset-pills}"
   ]
  },
  {
   "cell_type": "markdown",
   "id": "a139ed8f",
   "metadata": {},
   "source": [
    "## In class activity"
   ]
  },
  {
   "cell_type": "code",
   "execution_count": 1,
   "id": "ec6c3ae3",
   "metadata": {
    "kernel": "Python3",
    "tags": [
     "report_cell"
    ]
   },
   "outputs": [],
   "source": [
    "import numpy as np\n",
    "import pandas as pd\n",
    "#import math\n",
    "from matplotlib.pyplot import subplots\n",
    "#import statsmodels.api as sm\n",
    "from plotnine import *\n",
    "#import plotly.express as px\n",
    "#import statsmodels.formula.api as sm\n",
    "#import ISLP as islp"
   ]
  },
  {
   "cell_type": "markdown",
   "id": "a006f7cf",
   "metadata": {},
   "source": [
    "### Bank Credit Data\n",
    "\n",
    "Please take a look at the following credit scoring data set. This data was used to predict defaults on consumer loans. The data contains  1000 rows and 21 variables:"
   ]
  },
  {
   "cell_type": "code",
   "execution_count": 2,
   "id": "dc73a6c7",
   "metadata": {
    "kernel": "Python3",
    "tags": [
     "report_cell"
    ]
   },
   "outputs": [],
   "source": [
    "credit_data=pd.read_csv(\"credit_data.csv\")"
   ]
  },
  {
   "cell_type": "markdown",
   "id": "aeb90aeb",
   "metadata": {},
   "source": [
    "Here are the variables.\n",
    "\n",
    "- BAD: factor, GOOD/BAD for whether a customer has defaulted on a loan. This is the outcome or target in this dataset\n",
    "- Account_status: factor, status of existing checking account\n",
    "- Duration: numeric, loan duration in month\n",
    "- Credit_history: factor, previous credit history\n",
    "- Purpose: factor, loan purpose\n",
    "- Amount: numeric, credit amount\n",
    "- Savings: factor, savings account/bonds\n",
    "- Employment: factor, present employment since\n",
    "- Installment_rate: numeric, installment rate in percentage of disposable income\n",
    "- Guarantors: factor, other debtors / guarantors\n",
    "- Resident_since: factor, present residence since\n",
    "- Property: factor, property\n",
    "- Age: numeric, age in years\n",
    "- Other_plans: factor, other installment plans (bank ,none, stores )\n",
    "- Housing: factor, housing\n",
    "- Num_credits: numeric, Number of existing credits at this bank\n",
    "- Job: factor, job( management / self-employed / highly qualified employee / officer; skilled employee / official ; unemployed / unskilled - non-resident ; unskilled - resident )\n",
    "- People_maintenance: numeric, number of people being liable to provide maintenance for\n",
    "- Phone: factor, telephone (none ; yes, registered under the customers name )\n",
    "- Foreign: factor, foreign worker ( no ; yes )\n",
    "- Female: factor, female/male for gender\n",
    "\n",
    "Create a predictive model that predicts the outcome `BAD`."
   ]
  },
  {
   "cell_type": "code",
   "execution_count": 3,
   "id": "5abe777b",
   "metadata": {
    "kernel": "Python3",
    "tags": [
     "report_cell"
    ]
   },
   "outputs": [],
   "source": [
    "from sklearn.model_selection import train_test_split\n",
    "# split the data\n",
    "X_train, X_test, y_train, y_test = train_test_split(credit_data.loc[:,credit_data.columns != \"BAD\"], credit_data.loc[:,\"BAD\"], test_size=0.33, random_state=42)\n",
    "\n",
    "credit_data_train  = pd.concat([X_train, y_train], axis=1)\n",
    "credit_data_valid  = pd.concat([X_test, y_test], axis=1)"
   ]
  },
  {
   "cell_type": "markdown",
   "id": "c47e7826",
   "metadata": {},
   "source": [
    "Evaluate your model performance.  What criteria do you think will be appropriate."
   ]
  },
  {
   "cell_type": "code",
   "execution_count": 4,
   "id": "fa351827",
   "metadata": {},
   "outputs": [],
   "source": [
    "from sklearn.ensemble import RandomForestClassifier\n",
    "from sklearn.metrics import accuracy_score, classification_report\n",
    "from sklearn.preprocessing import OneHotEncoder\n",
    "from sklearn.compose import ColumnTransformer\n",
    "from sklearn.pipeline import Pipeline"
   ]
  },
  {
   "cell_type": "code",
   "execution_count": 5,
   "id": "4cc8f5cd",
   "metadata": {
    "kernel": "Python3",
    "tags": [
     "report_cell"
    ]
   },
   "outputs": [
    {
     "name": "stdout",
     "output_type": "stream",
     "text": [
      "Accuracy: 0.7151515151515152\n",
      "Classification Report:\n",
      "              precision    recall  f1-score   support\n",
      "\n",
      "         BAD       0.55      0.39      0.45       101\n",
      "        GOOD       0.76      0.86      0.81       229\n",
      "\n",
      "    accuracy                           0.72       330\n",
      "   macro avg       0.65      0.62      0.63       330\n",
      "weighted avg       0.70      0.72      0.70       330\n",
      "\n"
     ]
    }
   ],
   "source": [
    "categorical_cols = [cname for cname in X_train.columns if \n",
    "                    X_train[cname].dtype == \"object\"]\n",
    "\n",
    "preprocessor = ColumnTransformer(\n",
    "    transformers=[\n",
    "        ('cat', OneHotEncoder(handle_unknown='ignore'), categorical_cols)\n",
    "    ])\n",
    "\n",
    "model = RandomForestClassifier(n_estimators=100, random_state=42)\n",
    "\n",
    "clf = Pipeline(steps=[('preprocessor', preprocessor),\n",
    "                      ('model', model)])\n",
    "\n",
    "clf.fit(X_train, y_train)\n",
    "\n",
    "preds = clf.predict(X_test)\n",
    "\n",
    "# Evaluate the model\n",
    "accuracy = accuracy_score(y_test, preds)\n",
    "classification_report = classification_report(y_test, preds)\n",
    "\n",
    "print(\"Accuracy:\", accuracy)\n",
    "print(\"Classification Report:\")\n",
    "print(classification_report)"
   ]
  },
  {
   "cell_type": "markdown",
   "id": "7ea3b6cd",
   "metadata": {},
   "source": [
    "Comment of the result:\n",
    "\n",
    "~~~\n",
    "Please write your answer in full sentences.\n",
    "\n",
    "\n",
    "~~~"
   ]
  },
  {
   "cell_type": "markdown",
   "id": "a14d35ee",
   "metadata": {},
   "source": [
    "### Ames Housing data\n",
    "\n",
    "Please take a look at the Ames Housing data."
   ]
  },
  {
   "cell_type": "code",
   "execution_count": 6,
   "id": "db70e74e",
   "metadata": {},
   "outputs": [],
   "source": [
    "from sklearn.tree import DecisionTreeRegressor\n",
    "from sklearn.model_selection import train_test_split\n",
    "from sklearn.metrics import mean_squared_error"
   ]
  },
  {
   "cell_type": "code",
   "execution_count": 7,
   "id": "9db1f2e8",
   "metadata": {
    "kernel": "Python3",
    "tags": [
     "report_cell"
    ]
   },
   "outputs": [],
   "source": [
    "ames_raw=pd.read_csv(\"ames_raw.csv\")"
   ]
  },
  {
   "cell_type": "markdown",
   "id": "ed00790e",
   "metadata": {},
   "source": [
    "Use data of `ames_raw` up to 2008 predict the housing price for the later years."
   ]
  },
  {
   "cell_type": "code",
   "execution_count": 8,
   "id": "47e92069",
   "metadata": {
    "Rmd_chunk_options": "echo=show_code",
    "kernel": "Python3",
    "tags": [
     "report_cell"
    ]
   },
   "outputs": [],
   "source": [
    "# Do feature engineering if needed.\n",
    "ames_raw_2009, ames_raw_2008= ames_raw.query('`Yr Sold`>=2008').copy(), ames_raw.query('`Yr Sold` <2008').copy()"
   ]
  },
  {
   "cell_type": "markdown",
   "id": "6a64eea5",
   "metadata": {},
   "source": [
    "Use the same loss function calculator."
   ]
  },
  {
   "cell_type": "code",
   "execution_count": 9,
   "id": "b50d822d",
   "metadata": {
    "Rmd_chunk_options": "echo=show_code",
    "kernel": "Python3",
    "tags": [
     "report_cell"
    ]
   },
   "outputs": [],
   "source": [
    "def calc_loss(prediction,actual):\n",
    "  difpred = actual-prediction\n",
    "  RMSE =pow(difpred.pow(2).mean(),1/2)\n",
    "  operation_loss=abs(sum(difpred[difpred<0]))+sum(0.1*actual[difpred>0])\n",
    "  return RMSE,operation_loss"
   ]
  },
  {
   "cell_type": "markdown",
   "id": "2bf99443",
   "metadata": {},
   "source": [
    "Apply CART and try to interpret the result that you get.  Be sure to fit the models on a training set and evaluate their performance on a test set.  Does it have a good prediction accuracy?"
   ]
  },
  {
   "cell_type": "code",
   "execution_count": 10,
   "id": "2d6935b5",
   "metadata": {},
   "outputs": [],
   "source": [
    "ames_raw_2009 = ames_raw[ames_raw['Yr Sold'] >= 2008].copy()\n",
    "ames_raw_2008 = ames_raw[ames_raw['Yr Sold'] < 2008].copy()\n",
    "\n",
    "numeric_features = ames_raw_2008.select_dtypes(include=['int64', 'float64']).columns.tolist()\n",
    "numeric_features.remove('Order')\n",
    "numeric_features.remove('PID')\n",
    "numeric_features.remove('Yr Sold')\n",
    "numeric_features.remove('SalePrice')\n",
    "\n",
    "X_2008 = ames_raw_2008[numeric_features]\n",
    "y_2008 = ames_raw_2008['SalePrice']\n",
    "\n",
    "X_2009 = ames_raw_2009[numeric_features]\n",
    "y_2009 = ames_raw_2009['SalePrice']\n",
    "\n",
    "X_train_2008, X_test_2008, y_train_2008, y_test_2008 = train_test_split(X_2008, y_2008, test_size=0.33, random_state=42)\n",
    "\n",
    "X_train_2008_filled = X_train_2008.fillna(X_train_2008.median())\n",
    "X_test_2008_filled = X_test_2008.fillna(X_train_2008.median())\n",
    "X_2009_filled = X_2009.fillna(X_train_2008.median())\n",
    "\n",
    "y_test_2008_missing = y_test_2008.isnull().sum()\n",
    "y_2009_missing = y_2009.isnull().sum()\n",
    "\n",
    "if y_test_2008_missing > 0:\n",
    "    X_test_2008_filled = X_test_2008_filled.loc[y_test_2008.notnull()]\n",
    "    y_test_2008 = y_test_2008.loc[y_test_2008.notnull()]\n",
    "\n",
    "if y_2009_missing > 0:\n",
    "    X_2009_filled = X_2009_filled.loc[y_2009.notnull()]\n",
    "    y_2009 = y_2009.loc[y_2009.notnull()]\n"
   ]
  },
  {
   "cell_type": "code",
   "execution_count": 11,
   "id": "792042dd",
   "metadata": {
    "kernel": "Python3",
    "tags": [
     "report_cell"
    ]
   },
   "outputs": [
    {
     "data": {
      "text/plain": [
       "{'Test Set (2008)': {'RMSE': 41241.102279987, 'Operation Loss': 10372467.0},\n",
       " '2009 Data': {'RMSE': 40244.9141524004, 'Operation Loss': 39120996.599999994}}"
      ]
     },
     "execution_count": 11,
     "metadata": {},
     "output_type": "execute_result"
    }
   ],
   "source": [
    "cart_model = DecisionTreeRegressor(random_state=42)\n",
    "\n",
    "cart_model.fit(X_train_2008_filled, y_train_2008)\n",
    "\n",
    "predictions_test = cart_model.predict(X_test_2008_filled)\n",
    "\n",
    "rmse_test, operation_loss_test = calc_loss(pd.Series(predictions_test, index=y_test_2008.index), y_test_2008)\n",
    "\n",
    "predictions_2009 = cart_model.predict(X_2009_filled)\n",
    "rmse_2009, operation_loss_2009 = calc_loss(pd.Series(predictions_2009, index=y_2009.index), y_2009)\n",
    "\n",
    "performance_metrics = {\n",
    "    'Test Set (2008)': {'RMSE': rmse_test, 'Operation Loss': operation_loss_test},\n",
    "    '2009 Data': {'RMSE': rmse_2009, 'Operation Loss': operation_loss_2009}\n",
    "}\n",
    "\n",
    "performance_metrics"
   ]
  },
  {
   "cell_type": "markdown",
   "id": "e324fb1d",
   "metadata": {},
   "source": [
    "Comment of the result:\n",
    "\n",
    "~~~\n",
    "Please write your answer in full sentences.\n",
    "\n",
    "\n",
    "~~~\n",
    "\n",
    "Apply boosting, bagging, random forests, and BART to the Ames Housing data set. Be sure to fit the models on a training set and evaluate their performance on a test set. How accurate are the results compared to simple linear regression methods? Which of these approaches yields the best performance?"
   ]
  },
  {
   "cell_type": "code",
   "execution_count": 13,
   "id": "6fa2ba94",
   "metadata": {},
   "outputs": [],
   "source": [
    "from sklearn.ensemble import GradientBoostingRegressor, BaggingRegressor, RandomForestRegressor\n",
    "from sklearn.linear_model import LinearRegression\n",
    "from sklearn.metrics import mean_squared_error"
   ]
  },
  {
   "cell_type": "markdown",
   "id": "8740594b",
   "metadata": {},
   "source": [
    "Comment of the result:\n",
    "\n",
    "~~~\n",
    "Please write your answer in full sentences.\n",
    "\n",
    "\n",
    "~~~"
   ]
  },
  {
   "cell_type": "markdown",
   "id": "1cccc280",
   "metadata": {},
   "source": [
    "## Problem Set"
   ]
  },
  {
   "cell_type": "markdown",
   "id": "1bbbb9e6",
   "metadata": {},
   "source": [
    "### Boston\n",
    "\n",
    "\n",
    "In Section 8.3.3, we applied random forests to the Boston data using max_features = 6 and using n_estimators = 100 and n_estimators = 500. Create a plot displaying the test error resulting from random forests on this data set for a more comprehensive range of values for max_features and n_estimators. You can model your plot after Figure 8.10. Describe the results obtained."
   ]
  },
  {
   "cell_type": "code",
   "execution_count": null,
   "id": "46ebdbe8",
   "metadata": {
    "kernel": "Python3",
    "tags": [
     "report_cell"
    ]
   },
   "outputs": [],
   "source": [
    "from ISLP import load_data\n",
    "Boston = load_data(\"Boston\")"
   ]
  },
  {
   "cell_type": "markdown",
   "id": "2b9faaf0",
   "metadata": {},
   "source": [
    "###\n",
    "\n",
    "In the lab, a classification tree was applied to the Carseats data set after converting Sales into a qualitative response variable. Now we will seek to predict Sales using regression trees and related approaches, treating the response as a quantitative variable."
   ]
  },
  {
   "cell_type": "code",
   "execution_count": null,
   "id": "4cad2376",
   "metadata": {
    "kernel": "Python3",
    "tags": [
     "report_cell"
    ]
   },
   "outputs": [],
   "source": [
    "Carseats = load_data(\"Carseats\")"
   ]
  },
  {
   "cell_type": "markdown",
   "id": "038f32c9",
   "metadata": {},
   "source": [
    "(a) Split the data set into a training set and a test set."
   ]
  },
  {
   "cell_type": "code",
   "execution_count": null,
   "id": "b6a0513c",
   "metadata": {
    "kernel": "Python3",
    "tags": [
     "report_cell"
    ]
   },
   "outputs": [],
   "source": []
  },
  {
   "cell_type": "markdown",
   "id": "8be38c78",
   "metadata": {},
   "source": [
    "(b) Fit a regression tree to the training set. Plot the tree, and interpret the results. What test MSE do you obtain?"
   ]
  },
  {
   "cell_type": "code",
   "execution_count": null,
   "id": "53cf235e",
   "metadata": {
    "kernel": "Python3",
    "tags": [
     "report_cell"
    ]
   },
   "outputs": [],
   "source": []
  },
  {
   "cell_type": "markdown",
   "id": "0374a191",
   "metadata": {},
   "source": [
    "(c) Use cross-validation in order to determine the optimal level of tree complexity. Does pruning the tree improve the test MSE?"
   ]
  },
  {
   "cell_type": "code",
   "execution_count": null,
   "id": "dd2a267b",
   "metadata": {
    "kernel": "Python3",
    "tags": [
     "report_cell"
    ]
   },
   "outputs": [],
   "source": []
  },
  {
   "cell_type": "markdown",
   "id": "47a8eaa9",
   "metadata": {},
   "source": [
    "(d) Use the bagging approach in order to analyze this data. What\n",
    "test MSE do you obtain? Use the feature_importance_ values to\n",
    "determine which variables are most important."
   ]
  },
  {
   "cell_type": "code",
   "execution_count": null,
   "id": "1aa5fc4c",
   "metadata": {
    "kernel": "Python3",
    "tags": [
     "report_cell"
    ]
   },
   "outputs": [],
   "source": []
  },
  {
   "cell_type": "markdown",
   "id": "81449ad5",
   "metadata": {},
   "source": [
    "(e) Use random forests to analyze this data. What test MSE do you obtain? Use the feature_importance_ values to determine\n",
    "which variables are most important. Describe the effect of m, the number of variables considered at each split, on the error rate\n",
    "obtained."
   ]
  },
  {
   "cell_type": "code",
   "execution_count": null,
   "id": "e50147a8",
   "metadata": {
    "kernel": "Python3",
    "tags": [
     "report_cell"
    ]
   },
   "outputs": [],
   "source": []
  },
  {
   "cell_type": "markdown",
   "id": "077deaf4",
   "metadata": {},
   "source": [
    "(f) Now analyze the data using BART, and report your results."
   ]
  },
  {
   "cell_type": "code",
   "execution_count": null,
   "id": "886f4ccb",
   "metadata": {
    "kernel": "Python3",
    "tags": [
     "report_cell"
    ]
   },
   "outputs": [],
   "source": []
  },
  {
   "cell_type": "markdown",
   "id": "481487a9",
   "metadata": {},
   "source": [
    "### OJ\n",
    "\n",
    "This problem involves the OJ data set which is part of the ISLR2 package."
   ]
  },
  {
   "cell_type": "code",
   "execution_count": 30,
   "id": "fb8fc898",
   "metadata": {},
   "outputs": [],
   "source": [
    "from sklearn.tree import DecisionTreeClassifier, plot_tree\n",
    "from sklearn.metrics import accuracy_score\n",
    "import matplotlib.pyplot as plt\n"
   ]
  },
  {
   "cell_type": "code",
   "execution_count": 25,
   "id": "41dbe1c7",
   "metadata": {
    "kernel": "Python3",
    "tags": [
     "report_cell"
    ]
   },
   "outputs": [],
   "source": [
    "from ISLP import load_data\n",
    "OJ = load_data(\"OJ\")"
   ]
  },
  {
   "cell_type": "markdown",
   "id": "f3642bdd",
   "metadata": {},
   "source": [
    "(a) Create a training set containing a random sample of 800 observations, and a test set containing the remaining observations.\n",
    "\n",
    "Your code:"
   ]
  },
  {
   "cell_type": "code",
   "execution_count": 26,
   "id": "b724ac1d",
   "metadata": {
    "Rmd_chunk_options": "echo=TRUE",
    "kernel": "Python3",
    "tags": [
     "report_cell"
    ]
   },
   "outputs": [],
   "source": [
    "df_OJ_numeric = OJ.select_dtypes(include=['int64', 'float64'])\n",
    "\n",
    "# Assuming 'Purchase' is the target variable and is categorical, we need to include it separately\n",
    "df_OJ_numeric['Purchase'] = OJ['Purchase']\n",
    "\n",
    "# Split the dataset into features and target\n",
    "X = df_OJ_numeric.drop('Purchase', axis=1)\n",
    "y = df_OJ_numeric['Purchase']\n",
    "\n",
    "# Split the data into training and test sets\n",
    "X_train, X_test, y_train, y_test = train_test_split(X, y, train_size=800, random_state=42)"
   ]
  },
  {
   "cell_type": "markdown",
   "id": "d7303a57",
   "metadata": {},
   "source": [
    "Your answer:\n",
    "\n",
    "~~~\n",
    "Please write your answer in full sentences.\n",
    "\n",
    "\n",
    "~~~\n",
    "\n",
    "(b) Fit a tree to the training data, with Purchase as the response\n",
    "and the other variables as predictors. What is the training error\n",
    "rate?\n",
    "\n",
    "Your code:"
   ]
  },
  {
   "cell_type": "code",
   "execution_count": 28,
   "id": "3b4ea6cb",
   "metadata": {
    "Rmd_chunk_options": "echo=TRUE",
    "kernel": "Python3",
    "tags": [
     "report_cell"
    ]
   },
   "outputs": [
    {
     "data": {
      "text/plain": [
       "0.007499999999999951"
      ]
     },
     "execution_count": 28,
     "metadata": {},
     "output_type": "execute_result"
    }
   ],
   "source": [
    "clf = DecisionTreeClassifier(random_state=42)\n",
    "clf.fit(X_train, y_train)\n",
    "\n",
    "# Calculate the training error rate\n",
    "y_pred_train = clf.predict(X_train)\n",
    "training_error_rate = 1 - accuracy_score(y_train, y_pred_train)\n",
    "training_error_rate"
   ]
  },
  {
   "cell_type": "markdown",
   "id": "30f801b0",
   "metadata": {},
   "source": [
    "Your answer:\n",
    "\n",
    "~~~\n",
    "Please write your answer in full sentences.\n",
    "\n",
    "\n",
    "~~~\n",
    "\n",
    "(c) Create a plot of the tree, and interpret the results. How many terminal nodes does the tree have?\n",
    "Your code:"
   ]
  },
  {
   "cell_type": "code",
   "execution_count": 32,
   "id": "b8b23b38",
   "metadata": {
    "Rmd_chunk_options": "echo=TRUE",
    "kernel": "Python3",
    "tags": [
     "report_cell"
    ]
   },
   "outputs": [
    {
     "data": {
      "image/png": "[encoded data removed]",
      "text/plain": [
       "<Figure size 1440x720 with 1 Axes>"
      ]
     },
     "metadata": {
      "needs_background": "light"
     },
     "output_type": "display_data"
    }
   ],
   "source": [
    "plt.figure(figsize=(20,10))\n",
    "plot_tree(clf, filled=True, feature_names=df_OJ_numeric.drop('Purchase', axis=1).columns)\n",
    "plt.show()"
   ]
  },
  {
   "cell_type": "markdown",
   "id": "26ca7eb5",
   "metadata": {},
   "source": [
    "Your answer:\n",
    "\n",
    "~~~\n",
    "Please write your answer in full sentences.\n",
    "\n",
    "\n",
    "~~~\n",
    "\n",
    "(d) Use the export_tree() function to produce a text summary of\n",
    "the fitted tree. Pick one of the terminal nodes, and interpret the\n",
    "information displayed."
   ]
  },
  {
   "cell_type": "code",
   "execution_count": 37,
   "id": "e7f6e7c7",
   "metadata": {},
   "outputs": [],
   "source": [
    "from sklearn.tree import DecisionTreeClassifier, export_text, plot_tree\n",
    "from sklearn.metrics import confusion_matrix, accuracy_score\n",
    "from sklearn.model_selection import cross_val_score, validation_curve"
   ]
  },
  {
   "cell_type": "code",
   "execution_count": 35,
   "id": "2f80b15c",
   "metadata": {
    "kernel": "Python3",
    "tags": [
     "report_cell"
    ]
   },
   "outputs": [
    {
     "name": "stdout",
     "output_type": "stream",
     "text": [
      "|--- feature_8 <= 0.50\n",
      "|   |--- feature_8 <= 0.28\n",
      "|   |   |--- feature_8 <= 0.06\n",
      "|   |   |   |--- feature_0 <= 268.50\n",
      "|   |   |   |   |--- class: MM\n",
      "|   |   |   |--- feature_0 >  268.50\n",
      "|   |   |   |   |--- feature_9 <= 2.15\n",
      "|   |   |   |   |   |--- class: MM\n",
      "|   |   |   |   |--- feature_9 >  2.15\n",
      "|   |   |   |   |   |--- class: CH\n",
      "|   |   |--- feature_8 >  0.06\n",
      "|   |   |   |--- feature_8 <= 0.21\n",
      "|   |   |   |   |--- feature_0 <= 273.00\n",
      "|   |   |   |   |   |--- feature_0 <= 261.00\n",
      "|   |   |   |   |   |   |--- feature_11 <= -0.13\n",
      "|   |   |   |   |   |   |   |--- feature_2 <= 1.81\n",
      "|   |   |   |   |   |   |   |   |--- feature_0 <= 236.50\n",
      "|   |   |   |   |   |   |   |   |   |--- feature_0 <= 234.00\n",
      "|   |   |   |   |   |   |   |   |   |   |--- feature_8 <= 0.16\n",
      "|   |   |   |   |   |   |   |   |   |   |   |--- class: MM\n",
      "|   |   |   |   |   |   |   |   |   |   |--- feature_8 >  0.16\n",
      "|   |   |   |   |   |   |   |   |   |   |   |--- truncated branch of depth 2\n",
      "|   |   |   |   |   |   |   |   |   |--- feature_0 >  234.00\n",
      "|   |   |   |   |   |   |   |   |   |   |--- class: CH\n",
      "|   |   |   |   |   |   |   |   |--- feature_0 >  236.50\n",
      "|   |   |   |   |   |   |   |   |   |--- class: MM\n",
      "|   |   |   |   |   |   |   |--- feature_2 >  1.81\n",
      "|   |   |   |   |   |   |   |   |--- class: CH\n",
      "|   |   |   |   |   |   |--- feature_11 >  -0.13\n",
      "|   |   |   |   |   |   |   |--- feature_8 <= 0.06\n",
      "|   |   |   |   |   |   |   |   |--- class: CH\n",
      "|   |   |   |   |   |   |   |--- feature_8 >  0.06\n",
      "|   |   |   |   |   |   |   |   |--- feature_0 <= 228.00\n",
      "|   |   |   |   |   |   |   |   |   |--- class: CH\n",
      "|   |   |   |   |   |   |   |   |--- feature_0 >  228.00\n",
      "|   |   |   |   |   |   |   |   |   |--- feature_9 <= 2.26\n",
      "|   |   |   |   |   |   |   |   |   |   |--- feature_0 <= 237.50\n",
      "|   |   |   |   |   |   |   |   |   |   |   |--- class: MM\n",
      "|   |   |   |   |   |   |   |   |   |   |--- feature_0 >  237.50\n",
      "|   |   |   |   |   |   |   |   |   |   |   |--- truncated branch of depth 7\n",
      "|   |   |   |   |   |   |   |   |   |--- feature_9 >  2.26\n",
      "|   |   |   |   |   |   |   |   |   |   |--- class: CH\n",
      "|   |   |   |   |   |--- feature_0 >  261.00\n",
      "|   |   |   |   |   |   |--- feature_1 <= 1.50\n",
      "|   |   |   |   |   |   |   |--- class: MM\n",
      "|   |   |   |   |   |   |--- feature_1 >  1.50\n",
      "|   |   |   |   |   |   |   |--- class: CH\n",
      "|   |   |   |   |--- feature_0 >  273.00\n",
      "|   |   |   |   |   |--- class: MM\n",
      "|   |   |   |--- feature_8 >  0.21\n",
      "|   |   |   |   |--- feature_1 <= 1.50\n",
      "|   |   |   |   |   |--- feature_10 <= 1.78\n",
      "|   |   |   |   |   |   |--- class: CH\n",
      "|   |   |   |   |   |--- feature_10 >  1.78\n",
      "|   |   |   |   |   |   |--- class: MM\n",
      "|   |   |   |   |--- feature_1 >  1.50\n",
      "|   |   |   |   |   |--- feature_0 <= 229.50\n",
      "|   |   |   |   |   |   |--- feature_15 <= 1.00\n",
      "|   |   |   |   |   |   |   |--- class: CH\n",
      "|   |   |   |   |   |   |--- feature_15 >  1.00\n",
      "|   |   |   |   |   |   |   |--- class: MM\n",
      "|   |   |   |   |   |--- feature_0 >  229.50\n",
      "|   |   |   |   |   |   |--- feature_8 <= 0.26\n",
      "|   |   |   |   |   |   |   |--- class: MM\n",
      "|   |   |   |   |   |   |--- feature_8 >  0.26\n",
      "|   |   |   |   |   |   |   |--- feature_8 <= 0.27\n",
      "|   |   |   |   |   |   |   |   |--- class: CH\n",
      "|   |   |   |   |   |   |   |--- feature_8 >  0.27\n",
      "|   |   |   |   |   |   |   |   |--- class: MM\n",
      "|   |--- feature_8 >  0.28\n",
      "|   |   |--- feature_11 <= 0.05\n",
      "|   |   |   |--- feature_6 <= 0.50\n",
      "|   |   |   |   |--- feature_9 <= 1.74\n",
      "|   |   |   |   |   |--- feature_8 <= 0.28\n",
      "|   |   |   |   |   |   |--- class: CH\n",
      "|   |   |   |   |   |--- feature_8 >  0.28\n",
      "|   |   |   |   |   |   |--- feature_1 <= 3.50\n",
      "|   |   |   |   |   |   |   |--- feature_14 <= 0.23\n",
      "|   |   |   |   |   |   |   |   |--- class: MM\n",
      "|   |   |   |   |   |   |   |--- feature_14 >  0.23\n",
      "|   |   |   |   |   |   |   |   |--- feature_8 <= 0.47\n",
      "|   |   |   |   |   |   |   |   |   |--- class: MM\n",
      "|   |   |   |   |   |   |   |   |--- feature_8 >  0.47\n",
      "|   |   |   |   |   |   |   |   |   |--- feature_15 <= 1.50\n",
      "|   |   |   |   |   |   |   |   |   |   |--- class: MM\n",
      "|   |   |   |   |   |   |   |   |   |--- feature_15 >  1.50\n",
      "|   |   |   |   |   |   |   |   |   |   |--- class: CH\n",
      "|   |   |   |   |   |   |--- feature_1 >  3.50\n",
      "|   |   |   |   |   |   |   |--- feature_0 <= 232.00\n",
      "|   |   |   |   |   |   |   |   |--- class: CH\n",
      "|   |   |   |   |   |   |   |--- feature_0 >  232.00\n",
      "|   |   |   |   |   |   |   |   |--- feature_0 <= 276.50\n",
      "|   |   |   |   |   |   |   |   |   |--- class: MM\n",
      "|   |   |   |   |   |   |   |   |--- feature_0 >  276.50\n",
      "|   |   |   |   |   |   |   |   |   |--- class: CH\n",
      "|   |   |   |   |--- feature_9 >  1.74\n",
      "|   |   |   |   |   |--- feature_1 <= 2.50\n",
      "|   |   |   |   |   |   |--- class: CH\n",
      "|   |   |   |   |   |--- feature_1 >  2.50\n",
      "|   |   |   |   |   |   |--- feature_0 <= 229.50\n",
      "|   |   |   |   |   |   |   |--- feature_1 <= 3.50\n",
      "|   |   |   |   |   |   |   |   |--- feature_8 <= 0.44\n",
      "|   |   |   |   |   |   |   |   |   |--- class: CH\n",
      "|   |   |   |   |   |   |   |   |--- feature_8 >  0.44\n",
      "|   |   |   |   |   |   |   |   |   |--- class: MM\n",
      "|   |   |   |   |   |   |   |--- feature_1 >  3.50\n",
      "|   |   |   |   |   |   |   |   |--- feature_8 <= 0.44\n",
      "|   |   |   |   |   |   |   |   |   |--- class: MM\n",
      "|   |   |   |   |   |   |   |   |--- feature_8 >  0.44\n",
      "|   |   |   |   |   |   |   |   |   |--- feature_8 <= 0.49\n",
      "|   |   |   |   |   |   |   |   |   |   |--- class: CH\n",
      "|   |   |   |   |   |   |   |   |   |--- feature_8 >  0.49\n",
      "|   |   |   |   |   |   |   |   |   |   |--- class: CH\n",
      "|   |   |   |   |   |   |--- feature_0 >  229.50\n",
      "|   |   |   |   |   |   |   |--- class: MM\n",
      "|   |   |   |--- feature_6 >  0.50\n",
      "|   |   |   |   |--- feature_8 <= 0.37\n",
      "|   |   |   |   |   |--- class: MM\n",
      "|   |   |   |   |--- feature_8 >  0.37\n",
      "|   |   |   |   |   |--- feature_8 <= 0.47\n",
      "|   |   |   |   |   |   |--- feature_1 <= 5.50\n",
      "|   |   |   |   |   |   |   |--- class: CH\n",
      "|   |   |   |   |   |   |--- feature_1 >  5.50\n",
      "|   |   |   |   |   |   |   |--- feature_8 <= 0.39\n",
      "|   |   |   |   |   |   |   |   |--- class: CH\n",
      "|   |   |   |   |   |   |   |--- feature_8 >  0.39\n",
      "|   |   |   |   |   |   |   |   |--- class: MM\n",
      "|   |   |   |   |   |--- feature_8 >  0.47\n",
      "|   |   |   |   |   |   |--- feature_9 <= 1.64\n",
      "|   |   |   |   |   |   |   |--- feature_0 <= 233.50\n",
      "|   |   |   |   |   |   |   |   |--- class: CH\n",
      "|   |   |   |   |   |   |   |--- feature_0 >  233.50\n",
      "|   |   |   |   |   |   |   |   |--- class: MM\n",
      "|   |   |   |   |   |   |--- feature_9 >  1.64\n",
      "|   |   |   |   |   |   |   |--- class: MM\n",
      "|   |   |--- feature_11 >  0.05\n",
      "|   |   |   |--- feature_14 <= 0.26\n",
      "|   |   |   |   |--- feature_14 <= 0.12\n",
      "|   |   |   |   |   |--- class: CH\n",
      "|   |   |   |   |--- feature_14 >  0.12\n",
      "|   |   |   |   |   |--- feature_8 <= 0.45\n",
      "|   |   |   |   |   |   |--- feature_14 <= 0.22\n",
      "|   |   |   |   |   |   |   |--- feature_2 <= 1.94\n",
      "|   |   |   |   |   |   |   |   |--- class: CH\n",
      "|   |   |   |   |   |   |   |--- feature_2 >  1.94\n",
      "|   |   |   |   |   |   |   |   |--- feature_1 <= 4.50\n",
      "|   |   |   |   |   |   |   |   |   |--- class: MM\n",
      "|   |   |   |   |   |   |   |   |--- feature_1 >  4.50\n",
      "|   |   |   |   |   |   |   |   |   |--- feature_8 <= 0.39\n",
      "|   |   |   |   |   |   |   |   |   |   |--- class: CH\n",
      "|   |   |   |   |   |   |   |   |   |--- feature_8 >  0.39\n",
      "|   |   |   |   |   |   |   |   |   |   |--- class: MM\n",
      "|   |   |   |   |   |   |--- feature_14 >  0.22\n",
      "|   |   |   |   |   |   |   |--- feature_9 <= 2.04\n",
      "|   |   |   |   |   |   |   |   |--- class: MM\n",
      "|   |   |   |   |   |   |   |--- feature_9 >  2.04\n",
      "|   |   |   |   |   |   |   |   |--- feature_8 <= 0.33\n",
      "|   |   |   |   |   |   |   |   |   |--- class: MM\n",
      "|   |   |   |   |   |   |   |   |--- feature_8 >  0.33\n",
      "|   |   |   |   |   |   |   |   |   |--- feature_0 <= 243.00\n",
      "|   |   |   |   |   |   |   |   |   |   |--- class: CH\n",
      "|   |   |   |   |   |   |   |   |   |--- feature_0 >  243.00\n",
      "|   |   |   |   |   |   |   |   |   |   |--- feature_8 <= 0.37\n",
      "|   |   |   |   |   |   |   |   |   |   |   |--- class: CH\n",
      "|   |   |   |   |   |   |   |   |   |   |--- feature_8 >  0.37\n",
      "|   |   |   |   |   |   |   |   |   |   |   |--- class: MM\n",
      "|   |   |   |   |   |--- feature_8 >  0.45\n",
      "|   |   |   |   |   |   |--- feature_2 <= 1.81\n",
      "|   |   |   |   |   |   |   |--- class: CH\n",
      "|   |   |   |   |   |   |--- feature_2 >  1.81\n",
      "|   |   |   |   |   |   |   |--- feature_2 <= 1.94\n",
      "|   |   |   |   |   |   |   |   |--- feature_1 <= 4.50\n",
      "|   |   |   |   |   |   |   |   |   |--- class: MM\n",
      "|   |   |   |   |   |   |   |   |--- feature_1 >  4.50\n",
      "|   |   |   |   |   |   |   |   |   |--- feature_4 <= 0.05\n",
      "|   |   |   |   |   |   |   |   |   |   |--- class: CH\n",
      "|   |   |   |   |   |   |   |   |   |--- feature_4 >  0.05\n",
      "|   |   |   |   |   |   |   |   |   |   |--- class: MM\n",
      "|   |   |   |   |   |   |   |--- feature_2 >  1.94\n",
      "|   |   |   |   |   |   |   |   |--- feature_8 <= 0.49\n",
      "|   |   |   |   |   |   |   |   |   |--- class: CH\n",
      "|   |   |   |   |   |   |   |   |--- feature_8 >  0.49\n",
      "|   |   |   |   |   |   |   |   |   |--- feature_1 <= 2.50\n",
      "|   |   |   |   |   |   |   |   |   |   |--- class: CH\n",
      "|   |   |   |   |   |   |   |   |   |--- feature_1 >  2.50\n",
      "|   |   |   |   |   |   |   |   |   |   |--- feature_0 <= 247.00\n",
      "|   |   |   |   |   |   |   |   |   |   |   |--- truncated branch of depth 2\n",
      "|   |   |   |   |   |   |   |   |   |   |--- feature_0 >  247.00\n",
      "|   |   |   |   |   |   |   |   |   |   |   |--- class: MM\n",
      "|   |   |   |--- feature_14 >  0.26\n",
      "|   |   |   |   |--- feature_8 <= 0.46\n",
      "|   |   |   |   |   |--- feature_8 <= 0.41\n",
      "|   |   |   |   |   |   |--- feature_1 <= 3.50\n",
      "|   |   |   |   |   |   |   |--- feature_8 <= 0.31\n",
      "|   |   |   |   |   |   |   |   |--- class: CH\n",
      "|   |   |   |   |   |   |   |--- feature_8 >  0.31\n",
      "|   |   |   |   |   |   |   |   |--- feature_14 <= 0.33\n",
      "|   |   |   |   |   |   |   |   |   |--- feature_8 <= 0.36\n",
      "|   |   |   |   |   |   |   |   |   |   |--- class: MM\n",
      "|   |   |   |   |   |   |   |   |   |--- feature_8 >  0.36\n",
      "|   |   |   |   |   |   |   |   |   |   |--- feature_8 <= 0.40\n",
      "|   |   |   |   |   |   |   |   |   |   |   |--- class: CH\n",
      "|   |   |   |   |   |   |   |   |   |   |--- feature_8 >  0.40\n",
      "|   |   |   |   |   |   |   |   |   |   |   |--- truncated branch of depth 3\n",
      "|   |   |   |   |   |   |   |   |--- feature_14 >  0.33\n",
      "|   |   |   |   |   |   |   |   |   |--- feature_8 <= 0.38\n",
      "|   |   |   |   |   |   |   |   |   |   |--- class: CH\n",
      "|   |   |   |   |   |   |   |   |   |--- feature_8 >  0.38\n",
      "|   |   |   |   |   |   |   |   |   |   |--- class: MM\n",
      "|   |   |   |   |   |   |--- feature_1 >  3.50\n",
      "|   |   |   |   |   |   |   |--- feature_0 <= 258.50\n",
      "|   |   |   |   |   |   |   |   |--- feature_0 <= 257.00\n",
      "|   |   |   |   |   |   |   |   |   |--- class: CH\n",
      "|   |   |   |   |   |   |   |   |--- feature_0 >  257.00\n",
      "|   |   |   |   |   |   |   |   |   |--- feature_8 <= 0.35\n",
      "|   |   |   |   |   |   |   |   |   |   |--- class: CH\n",
      "|   |   |   |   |   |   |   |   |   |--- feature_8 >  0.35\n",
      "|   |   |   |   |   |   |   |   |   |   |--- class: MM\n",
      "|   |   |   |   |   |   |   |--- feature_0 >  258.50\n",
      "|   |   |   |   |   |   |   |   |--- class: CH\n",
      "|   |   |   |   |   |--- feature_8 >  0.41\n",
      "|   |   |   |   |   |   |--- feature_1 <= 1.50\n",
      "|   |   |   |   |   |   |   |--- feature_8 <= 0.46\n",
      "|   |   |   |   |   |   |   |   |--- class: CH\n",
      "|   |   |   |   |   |   |   |--- feature_8 >  0.46\n",
      "|   |   |   |   |   |   |   |   |--- class: MM\n",
      "|   |   |   |   |   |   |--- feature_1 >  1.50\n",
      "|   |   |   |   |   |   |   |--- feature_8 <= 0.45\n",
      "|   |   |   |   |   |   |   |   |--- class: MM\n",
      "|   |   |   |   |   |   |   |--- feature_8 >  0.45\n",
      "|   |   |   |   |   |   |   |   |--- feature_15 <= 2.50\n",
      "|   |   |   |   |   |   |   |   |   |--- class: CH\n",
      "|   |   |   |   |   |   |   |   |--- feature_15 >  2.50\n",
      "|   |   |   |   |   |   |   |   |   |--- class: MM\n",
      "|   |   |   |   |--- feature_8 >  0.46\n",
      "|   |   |   |   |   |--- feature_3 <= 2.04\n",
      "|   |   |   |   |   |   |--- class: MM\n",
      "|   |   |   |   |   |--- feature_3 >  2.04\n",
      "|   |   |   |   |   |   |--- feature_14 <= 0.39\n",
      "|   |   |   |   |   |   |   |--- feature_8 <= 0.48\n",
      "|   |   |   |   |   |   |   |   |--- feature_8 <= 0.48\n",
      "|   |   |   |   |   |   |   |   |   |--- class: CH\n",
      "|   |   |   |   |   |   |   |   |--- feature_8 >  0.48\n",
      "|   |   |   |   |   |   |   |   |   |--- feature_15 <= 1.50\n",
      "|   |   |   |   |   |   |   |   |   |   |--- class: CH\n",
      "|   |   |   |   |   |   |   |   |   |--- feature_15 >  1.50\n",
      "|   |   |   |   |   |   |   |   |   |   |--- class: MM\n",
      "|   |   |   |   |   |   |   |--- feature_8 >  0.48\n",
      "|   |   |   |   |   |   |   |   |--- class: CH\n",
      "|   |   |   |   |   |   |--- feature_14 >  0.39\n",
      "|   |   |   |   |   |   |   |--- class: MM\n",
      "|--- feature_8 >  0.50\n",
      "|   |--- feature_11 <= -0.39\n",
      "|   |   |--- feature_8 <= 0.76\n",
      "|   |   |   |--- feature_1 <= 1.50\n",
      "|   |   |   |   |--- feature_8 <= 0.63\n",
      "|   |   |   |   |   |--- class: MM\n",
      "|   |   |   |   |--- feature_8 >  0.63\n",
      "|   |   |   |   |   |--- feature_8 <= 0.71\n",
      "|   |   |   |   |   |   |--- class: CH\n",
      "|   |   |   |   |   |--- feature_8 >  0.71\n",
      "|   |   |   |   |   |   |--- class: MM\n",
      "|   |   |   |--- feature_1 >  1.50\n",
      "|   |   |   |   |--- class: MM\n",
      "|   |   |--- feature_8 >  0.76\n",
      "|   |   |   |--- feature_8 <= 0.99\n",
      "|   |   |   |   |--- class: CH\n",
      "|   |   |   |--- feature_8 >  0.99\n",
      "|   |   |   |   |--- feature_8 <= 1.00\n",
      "|   |   |   |   |   |--- class: MM\n",
      "|   |   |   |   |--- feature_8 >  1.00\n",
      "|   |   |   |   |   |--- class: CH\n",
      "|   |--- feature_11 >  -0.39\n",
      "|   |   |--- feature_3 <= 1.74\n",
      "|   |   |   |--- feature_8 <= 0.71\n",
      "|   |   |   |   |--- class: MM\n",
      "|   |   |   |--- feature_8 >  0.71\n",
      "|   |   |   |   |--- feature_8 <= 0.77\n",
      "|   |   |   |   |   |--- feature_1 <= 4.50\n",
      "|   |   |   |   |   |   |--- class: CH\n",
      "|   |   |   |   |   |--- feature_1 >  4.50\n",
      "|   |   |   |   |   |   |--- class: MM\n",
      "|   |   |   |   |--- feature_8 >  0.77\n",
      "|   |   |   |   |   |--- class: CH\n",
      "|   |   |--- feature_3 >  1.74\n",
      "|   |   |   |--- feature_8 <= 0.71\n",
      "|   |   |   |   |--- feature_11 <= 0.09\n",
      "|   |   |   |   |   |--- feature_14 <= 0.23\n",
      "|   |   |   |   |   |   |--- feature_11 <= -0.25\n",
      "|   |   |   |   |   |   |   |--- feature_0 <= 272.50\n",
      "|   |   |   |   |   |   |   |   |--- class: CH\n",
      "|   |   |   |   |   |   |   |--- feature_0 >  272.50\n",
      "|   |   |   |   |   |   |   |   |--- class: MM\n",
      "|   |   |   |   |   |   |--- feature_11 >  -0.25\n",
      "|   |   |   |   |   |   |   |--- feature_8 <= 0.63\n",
      "|   |   |   |   |   |   |   |   |--- feature_1 <= 5.50\n",
      "|   |   |   |   |   |   |   |   |   |--- class: MM\n",
      "|   |   |   |   |   |   |   |   |--- feature_1 >  5.50\n",
      "|   |   |   |   |   |   |   |   |   |--- feature_8 <= 0.56\n",
      "|   |   |   |   |   |   |   |   |   |   |--- class: MM\n",
      "|   |   |   |   |   |   |   |   |   |--- feature_8 >  0.56\n",
      "|   |   |   |   |   |   |   |   |   |   |--- feature_9 <= 2.01\n",
      "|   |   |   |   |   |   |   |   |   |   |   |--- class: CH\n",
      "|   |   |   |   |   |   |   |   |   |   |--- feature_9 >  2.01\n",
      "|   |   |   |   |   |   |   |   |   |   |   |--- class: MM\n",
      "|   |   |   |   |   |   |   |--- feature_8 >  0.63\n",
      "|   |   |   |   |   |   |   |   |--- feature_12 <= 0.12\n",
      "|   |   |   |   |   |   |   |   |   |--- class: CH\n",
      "|   |   |   |   |   |   |   |   |--- feature_12 >  0.12\n",
      "|   |   |   |   |   |   |   |   |   |--- feature_8 <= 0.69\n",
      "|   |   |   |   |   |   |   |   |   |   |--- class: MM\n",
      "|   |   |   |   |   |   |   |   |   |--- feature_8 >  0.69\n",
      "|   |   |   |   |   |   |   |   |   |   |--- class: CH\n",
      "|   |   |   |   |   |--- feature_14 >  0.23\n",
      "|   |   |   |   |   |   |--- feature_8 <= 0.66\n",
      "|   |   |   |   |   |   |   |--- class: CH\n",
      "|   |   |   |   |   |   |--- feature_8 >  0.66\n",
      "|   |   |   |   |   |   |   |--- feature_10 <= 1.81\n",
      "|   |   |   |   |   |   |   |   |--- class: MM\n",
      "|   |   |   |   |   |   |   |--- feature_10 >  1.81\n",
      "|   |   |   |   |   |   |   |   |--- feature_8 <= 0.67\n",
      "|   |   |   |   |   |   |   |   |   |--- class: MM\n",
      "|   |   |   |   |   |   |   |   |--- feature_8 >  0.67\n",
      "|   |   |   |   |   |   |   |   |   |--- feature_0 <= 263.00\n",
      "|   |   |   |   |   |   |   |   |   |   |--- class: CH\n",
      "|   |   |   |   |   |   |   |   |   |--- feature_0 >  263.00\n",
      "|   |   |   |   |   |   |   |   |   |   |--- class: MM\n",
      "|   |   |   |   |--- feature_11 >  0.09\n",
      "|   |   |   |   |   |--- feature_8 <= 0.69\n",
      "|   |   |   |   |   |   |--- feature_3 <= 2.26\n",
      "|   |   |   |   |   |   |   |--- feature_3 <= 2.11\n",
      "|   |   |   |   |   |   |   |   |--- feature_14 <= 0.27\n",
      "|   |   |   |   |   |   |   |   |   |--- feature_0 <= 237.50\n",
      "|   |   |   |   |   |   |   |   |   |   |--- feature_1 <= 1.50\n",
      "|   |   |   |   |   |   |   |   |   |   |   |--- class: CH\n",
      "|   |   |   |   |   |   |   |   |   |   |--- feature_1 >  1.50\n",
      "|   |   |   |   |   |   |   |   |   |   |   |--- class: MM\n",
      "|   |   |   |   |   |   |   |   |   |--- feature_0 >  237.50\n",
      "|   |   |   |   |   |   |   |   |   |   |--- feature_1 <= 2.50\n",
      "|   |   |   |   |   |   |   |   |   |   |   |--- class: CH\n",
      "|   |   |   |   |   |   |   |   |   |   |--- feature_1 >  2.50\n",
      "|   |   |   |   |   |   |   |   |   |   |   |--- truncated branch of depth 4\n",
      "|   |   |   |   |   |   |   |   |--- feature_14 >  0.27\n",
      "|   |   |   |   |   |   |   |   |   |--- feature_8 <= 0.68\n",
      "|   |   |   |   |   |   |   |   |   |   |--- class: CH\n",
      "|   |   |   |   |   |   |   |   |   |--- feature_8 >  0.68\n",
      "|   |   |   |   |   |   |   |   |   |   |--- feature_0 <= 230.50\n",
      "|   |   |   |   |   |   |   |   |   |   |   |--- class: CH\n",
      "|   |   |   |   |   |   |   |   |   |   |--- feature_0 >  230.50\n",
      "|   |   |   |   |   |   |   |   |   |   |   |--- class: MM\n",
      "|   |   |   |   |   |   |   |--- feature_3 >  2.11\n",
      "|   |   |   |   |   |   |   |   |--- feature_8 <= 0.54\n",
      "|   |   |   |   |   |   |   |   |   |--- feature_15 <= 1.00\n",
      "|   |   |   |   |   |   |   |   |   |   |--- class: CH\n",
      "|   |   |   |   |   |   |   |   |   |--- feature_15 >  1.00\n",
      "|   |   |   |   |   |   |   |   |   |   |--- class: MM\n",
      "|   |   |   |   |   |   |   |   |--- feature_8 >  0.54\n",
      "|   |   |   |   |   |   |   |   |   |--- class: CH\n",
      "|   |   |   |   |   |   |--- feature_3 >  2.26\n",
      "|   |   |   |   |   |   |   |--- feature_0 <= 255.50\n",
      "|   |   |   |   |   |   |   |   |--- feature_8 <= 0.64\n",
      "|   |   |   |   |   |   |   |   |   |--- class: MM\n",
      "|   |   |   |   |   |   |   |   |--- feature_8 >  0.64\n",
      "|   |   |   |   |   |   |   |   |   |--- feature_8 <= 0.68\n",
      "|   |   |   |   |   |   |   |   |   |   |--- class: CH\n",
      "|   |   |   |   |   |   |   |   |   |--- feature_8 >  0.68\n",
      "|   |   |   |   |   |   |   |   |   |   |--- class: MM\n",
      "|   |   |   |   |   |   |   |--- feature_0 >  255.50\n",
      "|   |   |   |   |   |   |   |   |--- class: CH\n",
      "|   |   |   |   |   |--- feature_8 >  0.69\n",
      "|   |   |   |   |   |   |--- class: MM\n",
      "|   |   |   |--- feature_8 >  0.71\n",
      "|   |   |   |   |--- feature_0 <= 257.50\n",
      "|   |   |   |   |   |--- feature_0 <= 237.50\n",
      "|   |   |   |   |   |   |--- class: CH\n",
      "|   |   |   |   |   |--- feature_0 >  237.50\n",
      "|   |   |   |   |   |   |--- feature_8 <= 0.92\n",
      "|   |   |   |   |   |   |   |--- feature_6 <= 0.50\n",
      "|   |   |   |   |   |   |   |   |--- feature_8 <= 0.80\n",
      "|   |   |   |   |   |   |   |   |   |--- feature_1 <= 5.50\n",
      "|   |   |   |   |   |   |   |   |   |   |--- feature_8 <= 0.79\n",
      "|   |   |   |   |   |   |   |   |   |   |   |--- class: CH\n",
      "|   |   |   |   |   |   |   |   |   |   |--- feature_8 >  0.79\n",
      "|   |   |   |   |   |   |   |   |   |   |   |--- truncated branch of depth 2\n",
      "|   |   |   |   |   |   |   |   |   |--- feature_1 >  5.50\n",
      "|   |   |   |   |   |   |   |   |   |   |--- feature_8 <= 0.76\n",
      "|   |   |   |   |   |   |   |   |   |   |   |--- truncated branch of depth 2\n",
      "|   |   |   |   |   |   |   |   |   |   |--- feature_8 >  0.76\n",
      "|   |   |   |   |   |   |   |   |   |   |   |--- class: CH\n",
      "|   |   |   |   |   |   |   |   |--- feature_8 >  0.80\n",
      "|   |   |   |   |   |   |   |   |   |--- class: CH\n",
      "|   |   |   |   |   |   |   |--- feature_6 >  0.50\n",
      "|   |   |   |   |   |   |   |   |--- class: MM\n",
      "|   |   |   |   |   |   |--- feature_8 >  0.92\n",
      "|   |   |   |   |   |   |   |--- feature_8 <= 0.96\n",
      "|   |   |   |   |   |   |   |   |--- feature_1 <= 2.50\n",
      "|   |   |   |   |   |   |   |   |   |--- feature_2 <= 1.81\n",
      "|   |   |   |   |   |   |   |   |   |   |--- class: MM\n",
      "|   |   |   |   |   |   |   |   |   |--- feature_2 >  1.81\n",
      "|   |   |   |   |   |   |   |   |   |   |--- class: CH\n",
      "|   |   |   |   |   |   |   |   |--- feature_1 >  2.50\n",
      "|   |   |   |   |   |   |   |   |   |--- class: MM\n",
      "|   |   |   |   |   |   |   |--- feature_8 >  0.96\n",
      "|   |   |   |   |   |   |   |   |--- class: CH\n",
      "|   |   |   |   |--- feature_0 >  257.50\n",
      "|   |   |   |   |   |--- feature_1 <= 2.50\n",
      "|   |   |   |   |   |   |--- feature_8 <= 0.98\n",
      "|   |   |   |   |   |   |   |--- feature_14 <= 0.13\n",
      "|   |   |   |   |   |   |   |   |--- feature_11 <= -0.02\n",
      "|   |   |   |   |   |   |   |   |   |--- class: MM\n",
      "|   |   |   |   |   |   |   |   |--- feature_11 >  -0.02\n",
      "|   |   |   |   |   |   |   |   |   |--- class: CH\n",
      "|   |   |   |   |   |   |   |--- feature_14 >  0.13\n",
      "|   |   |   |   |   |   |   |   |--- class: CH\n",
      "|   |   |   |   |   |   |--- feature_8 >  0.98\n",
      "|   |   |   |   |   |   |   |--- feature_8 <= 0.99\n",
      "|   |   |   |   |   |   |   |   |--- class: MM\n",
      "|   |   |   |   |   |   |   |--- feature_8 >  0.99\n",
      "|   |   |   |   |   |   |   |   |--- class: CH\n",
      "|   |   |   |   |   |--- feature_1 >  2.50\n",
      "|   |   |   |   |   |   |--- feature_15 <= 3.50\n",
      "|   |   |   |   |   |   |   |--- class: CH\n",
      "|   |   |   |   |   |   |--- feature_15 >  3.50\n",
      "|   |   |   |   |   |   |   |--- feature_0 <= 265.50\n",
      "|   |   |   |   |   |   |   |   |--- feature_0 <= 264.50\n",
      "|   |   |   |   |   |   |   |   |   |--- class: CH\n",
      "|   |   |   |   |   |   |   |   |--- feature_0 >  264.50\n",
      "|   |   |   |   |   |   |   |   |   |--- feature_8 <= 0.97\n",
      "|   |   |   |   |   |   |   |   |   |   |--- class: MM\n",
      "|   |   |   |   |   |   |   |   |   |--- feature_8 >  0.97\n",
      "|   |   |   |   |   |   |   |   |   |   |--- class: CH\n",
      "|   |   |   |   |   |   |   |--- feature_0 >  265.50\n",
      "|   |   |   |   |   |   |   |   |--- class: CH\n",
      "\n"
     ]
    }
   ],
   "source": [
    "tree_text_representation = export_text(clf)\n",
    "print(tree_text_representation)"
   ]
  },
  {
   "cell_type": "markdown",
   "id": "0f3434b5",
   "metadata": {},
   "source": [
    "(e) Predict the response on the test data, and produce a confusion\n",
    "matrix comparing the test labels to the predicted test labels.\n",
    "What is the test error rate?\n",
    "\n",
    "Your code:"
   ]
  },
  {
   "cell_type": "code",
   "execution_count": 40,
   "id": "eb630622",
   "metadata": {
    "Rmd_chunk_options": "echo=TRUE",
    "kernel": "Python3",
    "tags": [
     "report_cell"
    ]
   },
   "outputs": [
    {
     "name": "stdout",
     "output_type": "stream",
     "text": [
      "Confusion Matrix:\n",
      "[[121  38]\n",
      " [ 38  73]]\n",
      "Test Error Rate: 0.28148148148148144\n"
     ]
    }
   ],
   "source": [
    "y_pred_test = clf.predict(X_test)\n",
    "conf_matrix = confusion_matrix(y_test, y_pred_test)\n",
    "test_error_rate = 1 - accuracy_score(y_test, y_pred_test)\n",
    "print(\"Confusion Matrix:\")\n",
    "print(conf_matrix)\n",
    "print(f\"Test Error Rate: {test_error_rate}\")"
   ]
  },
  {
   "cell_type": "markdown",
   "id": "66ec0679",
   "metadata": {},
   "source": [
    "Your answer:\n",
    "\n",
    "~~~\n",
    "Please write your answer in full sentences.\n",
    "\n",
    "\n",
    "~~~\n",
    "\n",
    "(f) Use cross-validation on the training set in order to determine\n",
    "the optimal tree size.\n",
    "Your code:"
   ]
  },
  {
   "cell_type": "code",
   "execution_count": 41,
   "id": "37359959",
   "metadata": {
    "Rmd_chunk_options": "echo=TRUE",
    "kernel": "Python3",
    "tags": [
     "report_cell"
    ]
   },
   "outputs": [
    {
     "name": "stdout",
     "output_type": "stream",
     "text": [
      "Optimal Tree Depth: 4\n"
     ]
    }
   ],
   "source": [
    "tree_depths = np.arange(1, 31)\n",
    "cv_scores = [cross_val_score(DecisionTreeClassifier(max_depth=depth, random_state=42), \n",
    "                             X_train, y_train, cv=5, scoring='accuracy').mean() \n",
    "             for depth in tree_depths]\n",
    "\n",
    "optimal_depth = tree_depths[np.argmax(cv_scores)]\n",
    "print(f\"Optimal Tree Depth: {optimal_depth}\")"
   ]
  },
  {
   "cell_type": "markdown",
   "id": "3d54c5e8",
   "metadata": {},
   "source": [
    "Your answer:\n",
    "\n",
    "~~~\n",
    "Please write your answer in full sentences.\n",
    "\n",
    "\n",
    "~~~\n",
    "\n",
    "(g) Produce a plot with tree size on the x-axis and cross-validated\n",
    "classification error rate on the y-axis.\n",
    "Your code:"
   ]
  },
  {
   "cell_type": "code",
   "execution_count": 42,
   "id": "2a4aa076",
   "metadata": {
    "Rmd_chunk_options": "echo=TRUE",
    "kernel": "Python3",
    "tags": [
     "report_cell"
    ]
   },
   "outputs": [
    {
     "data": {
      "image/png": "[encoded data removed]",
      "text/plain": [
       "<Figure size 864x432 with 1 Axes>"
      ]
     },
     "metadata": {
      "needs_background": "light"
     },
     "output_type": "display_data"
    }
   ],
   "source": [
    "plt.figure(figsize=(12, 6))\n",
    "plt.plot(tree_depths, cv_scores, label='CV Accuracy Score', marker='o')\n",
    "plt.title('CV Score vs Tree Depth')\n",
    "plt.xlabel('Depth of tree')\n",
    "plt.ylabel('Accuracy')\n",
    "plt.legend()\n",
    "plt.show()"
   ]
  },
  {
   "cell_type": "markdown",
   "id": "2dd5b8bf",
   "metadata": {},
   "source": [
    "Your answer:\n",
    "\n",
    "~~~\n",
    "Please write your answer in full sentences.\n",
    "\n",
    "\n",
    "~~~\n",
    "\n",
    "(h) Which tree size corresponds to the lowest cross-validated classification error rate?\n",
    "\n",
    "Your code:"
   ]
  },
  {
   "cell_type": "code",
   "execution_count": 46,
   "id": "47593293",
   "metadata": {},
   "outputs": [],
   "source": [
    "from sklearn.model_selection import cross_val_score\n"
   ]
  },
  {
   "cell_type": "code",
   "execution_count": 48,
   "id": "c8b59831",
   "metadata": {},
   "outputs": [],
   "source": [
    "cross_val_scores = []\n",
    "\n",
    "# Perform cross-validation and store the average accuracy for each tree depth\n",
    "for depth in tree_depths:\n",
    "    tree = DecisionTreeClassifier(max_depth=depth, random_state=42)\n",
    "    scores = cross_val_score(tree, X_train, y_train, cv=5, scoring='accuracy')\n",
    "    cross_val_scores.append(np.mean(scores))"
   ]
  },
  {
   "cell_type": "code",
   "execution_count": 49,
   "id": "5e57e183",
   "metadata": {
    "Rmd_chunk_options": "echo=TRUE",
    "kernel": "Python3",
    "tags": [
     "report_cell"
    ]
   },
   "outputs": [
    {
     "data": {
      "text/plain": [
       "[0.2037500000000001,\n",
       " 0.1987500000000001,\n",
       " 0.17500000000000004,\n",
       " 0.16625,\n",
       " 0.16999999999999993,\n",
       " 0.18125000000000002,\n",
       " 0.19999999999999996,\n",
       " 0.20875,\n",
       " 0.20999999999999996,\n",
       " 0.2087500000000001,\n",
       " 0.20625000000000004,\n",
       " 0.20750000000000013,\n",
       " 0.21250000000000002,\n",
       " 0.2074999999999999,\n",
       " 0.21124999999999994,\n",
       " 0.21250000000000002,\n",
       " 0.2124999999999999,\n",
       " 0.20875,\n",
       " 0.20875,\n",
       " 0.20875,\n",
       " 0.20875,\n",
       " 0.20875,\n",
       " 0.20875,\n",
       " 0.20875,\n",
       " 0.20875,\n",
       " 0.20875,\n",
       " 0.20875,\n",
       " 0.20875,\n",
       " 0.20875,\n",
       " 0.20875]"
      ]
     },
     "execution_count": 49,
     "metadata": {},
     "output_type": "execute_result"
    }
   ],
   "source": [
    "cross_val_error_rates = [1 - score for score in cross_val_scores]\n",
    "cross_val_error_rates"
   ]
  },
  {
   "cell_type": "markdown",
   "id": "c1c0bbc5",
   "metadata": {},
   "source": [
    "Your answer:\n",
    "\n",
    "~~~\n",
    "Please write your answer in full sentences.\n",
    "\n",
    "\n",
    "~~~\n",
    "\n",
    "(i) Produce a pruned tree corresponding to the optimal tree size obtained using cross-validation. If cross-validation does not lead\n",
    "to selection of a pruned tree, then create a pruned tree with five terminal nodes.\n",
    "\n",
    "Your code:"
   ]
  },
  {
   "cell_type": "code",
   "execution_count": 50,
   "id": "27432083",
   "metadata": {
    "Rmd_chunk_options": "echo=TRUE",
    "kernel": "Python3",
    "tags": [
     "report_cell"
    ]
   },
   "outputs": [
    {
     "data": {
      "text/html": [
       "<style>#sk-container-id-1 {\n",
       "  /* Definition of color scheme common for light and dark mode */\n",
       "  --sklearn-color-text: black;\n",
       "  --sklearn-color-line: gray;\n",
       "  /* Definition of color scheme for unfitted estimators */\n",
       "  --sklearn-color-unfitted-level-0: #fff5e6;\n",
       "  --sklearn-color-unfitted-level-1: #f6e4d2;\n",
       "  --sklearn-color-unfitted-level-2: #ffe0b3;\n",
       "  --sklearn-color-unfitted-level-3: chocolate;\n",
       "  /* Definition of color scheme for fitted estimators */\n",
       "  --sklearn-color-fitted-level-0: #f0f8ff;\n",
       "  --sklearn-color-fitted-level-1: #d4ebff;\n",
       "  --sklearn-color-fitted-level-2: #b3dbfd;\n",
       "  --sklearn-color-fitted-level-3: cornflowerblue;\n",
       "\n",
       "  /* Specific color for light theme */\n",
       "  --sklearn-color-text-on-default-background: var(--sg-text-color, var(--theme-code-foreground, var(--jp-content-font-color1, black)));\n",
       "  --sklearn-color-background: var(--sg-background-color, var(--theme-background, var(--jp-layout-color0, white)));\n",
       "  --sklearn-color-border-box: var(--sg-text-color, var(--theme-code-foreground, var(--jp-content-font-color1, black)));\n",
       "  --sklearn-color-icon: #696969;\n",
       "\n",
       "  @media (prefers-color-scheme: dark) {\n",
       "    /* Redefinition of color scheme for dark theme */\n",
       "    --sklearn-color-text-on-default-background: var(--sg-text-color, var(--theme-code-foreground, var(--jp-content-font-color1, white)));\n",
       "    --sklearn-color-background: var(--sg-background-color, var(--theme-background, var(--jp-layout-color0, #111)));\n",
       "    --sklearn-color-border-box: var(--sg-text-color, var(--theme-code-foreground, var(--jp-content-font-color1, white)));\n",
       "    --sklearn-color-icon: #878787;\n",
       "  }\n",
       "}\n",
       "\n",
       "#sk-container-id-1 {\n",
       "  color: var(--sklearn-color-text);\n",
       "}\n",
       "\n",
       "#sk-container-id-1 pre {\n",
       "  padding: 0;\n",
       "}\n",
       "\n",
       "#sk-container-id-1 input.sk-hidden--visually {\n",
       "  border: 0;\n",
       "  clip: rect(1px 1px 1px 1px);\n",
       "  clip: rect(1px, 1px, 1px, 1px);\n",
       "  height: 1px;\n",
       "  margin: -1px;\n",
       "  overflow: hidden;\n",
       "  padding: 0;\n",
       "  position: absolute;\n",
       "  width: 1px;\n",
       "}\n",
       "\n",
       "#sk-container-id-1 div.sk-dashed-wrapped {\n",
       "  border: 1px dashed var(--sklearn-color-line);\n",
       "  margin: 0 0.4em 0.5em 0.4em;\n",
       "  box-sizing: border-box;\n",
       "  padding-bottom: 0.4em;\n",
       "  background-color: var(--sklearn-color-background);\n",
       "}\n",
       "\n",
       "#sk-container-id-1 div.sk-container {\n",
       "  /* jupyter's `normalize.less` sets `[hidden] { display: none; }`\n",
       "     but bootstrap.min.css set `[hidden] { display: none !important; }`\n",
       "     so we also need the `!important` here to be able to override the\n",
       "     default hidden behavior on the sphinx rendered scikit-learn.org.\n",
       "     See: https://github.com/scikit-learn/scikit-learn/issues/21755 */\n",
       "  display: inline-block !important;\n",
       "  position: relative;\n",
       "}\n",
       "\n",
       "#sk-container-id-1 div.sk-text-repr-fallback {\n",
       "  display: none;\n",
       "}\n",
       "\n",
       "div.sk-parallel-item,\n",
       "div.sk-serial,\n",
       "div.sk-item {\n",
       "  /* draw centered vertical line to link estimators */\n",
       "  background-image: linear-gradient(var(--sklearn-color-text-on-default-background), var(--sklearn-color-text-on-default-background));\n",
       "  background-size: 2px 100%;\n",
       "  background-repeat: no-repeat;\n",
       "  background-position: center center;\n",
       "}\n",
       "\n",
       "/* Parallel-specific style estimator block */\n",
       "\n",
       "#sk-container-id-1 div.sk-parallel-item::after {\n",
       "  content: \"\";\n",
       "  width: 100%;\n",
       "  border-bottom: 2px solid var(--sklearn-color-text-on-default-background);\n",
       "  flex-grow: 1;\n",
       "}\n",
       "\n",
       "#sk-container-id-1 div.sk-parallel {\n",
       "  display: flex;\n",
       "  align-items: stretch;\n",
       "  justify-content: center;\n",
       "  background-color: var(--sklearn-color-background);\n",
       "  position: relative;\n",
       "}\n",
       "\n",
       "#sk-container-id-1 div.sk-parallel-item {\n",
       "  display: flex;\n",
       "  flex-direction: column;\n",
       "}\n",
       "\n",
       "#sk-container-id-1 div.sk-parallel-item:first-child::after {\n",
       "  align-self: flex-end;\n",
       "  width: 50%;\n",
       "}\n",
       "\n",
       "#sk-container-id-1 div.sk-parallel-item:last-child::after {\n",
       "  align-self: flex-start;\n",
       "  width: 50%;\n",
       "}\n",
       "\n",
       "#sk-container-id-1 div.sk-parallel-item:only-child::after {\n",
       "  width: 0;\n",
       "}\n",
       "\n",
       "/* Serial-specific style estimator block */\n",
       "\n",
       "#sk-container-id-1 div.sk-serial {\n",
       "  display: flex;\n",
       "  flex-direction: column;\n",
       "  align-items: center;\n",
       "  background-color: var(--sklearn-color-background);\n",
       "  padding-right: 1em;\n",
       "  padding-left: 1em;\n",
       "}\n",
       "\n",
       "\n",
       "/* Toggleable style: style used for estimator/Pipeline/ColumnTransformer box that is\n",
       "clickable and can be expanded/collapsed.\n",
       "- Pipeline and ColumnTransformer use this feature and define the default style\n",
       "- Estimators will overwrite some part of the style using the `sk-estimator` class\n",
       "*/\n",
       "\n",
       "/* Pipeline and ColumnTransformer style (default) */\n",
       "\n",
       "#sk-container-id-1 div.sk-toggleable {\n",
       "  /* Default theme specific background. It is overwritten whether we have a\n",
       "  specific estimator or a Pipeline/ColumnTransformer */\n",
       "  background-color: var(--sklearn-color-background);\n",
       "}\n",
       "\n",
       "/* Toggleable label */\n",
       "#sk-container-id-1 label.sk-toggleable__label {\n",
       "  cursor: pointer;\n",
       "  display: block;\n",
       "  width: 100%;\n",
       "  margin-bottom: 0;\n",
       "  padding: 0.5em;\n",
       "  box-sizing: border-box;\n",
       "  text-align: center;\n",
       "}\n",
       "\n",
       "#sk-container-id-1 label.sk-toggleable__label-arrow:before {\n",
       "  /* Arrow on the left of the label */\n",
       "  content: \"▸\";\n",
       "  float: left;\n",
       "  margin-right: 0.25em;\n",
       "  color: var(--sklearn-color-icon);\n",
       "}\n",
       "\n",
       "#sk-container-id-1 label.sk-toggleable__label-arrow:hover:before {\n",
       "  color: var(--sklearn-color-text);\n",
       "}\n",
       "\n",
       "/* Toggleable content - dropdown */\n",
       "\n",
       "#sk-container-id-1 div.sk-toggleable__content {\n",
       "  max-height: 0;\n",
       "  max-width: 0;\n",
       "  overflow: hidden;\n",
       "  text-align: left;\n",
       "  /* unfitted */\n",
       "  background-color: var(--sklearn-color-unfitted-level-0);\n",
       "}\n",
       "\n",
       "#sk-container-id-1 div.sk-toggleable__content.fitted {\n",
       "  /* fitted */\n",
       "  background-color: var(--sklearn-color-fitted-level-0);\n",
       "}\n",
       "\n",
       "#sk-container-id-1 div.sk-toggleable__content pre {\n",
       "  margin: 0.2em;\n",
       "  border-radius: 0.25em;\n",
       "  color: var(--sklearn-color-text);\n",
       "  /* unfitted */\n",
       "  background-color: var(--sklearn-color-unfitted-level-0);\n",
       "}\n",
       "\n",
       "#sk-container-id-1 div.sk-toggleable__content.fitted pre {\n",
       "  /* unfitted */\n",
       "  background-color: var(--sklearn-color-fitted-level-0);\n",
       "}\n",
       "\n",
       "#sk-container-id-1 input.sk-toggleable__control:checked~div.sk-toggleable__content {\n",
       "  /* Expand drop-down */\n",
       "  max-height: 200px;\n",
       "  max-width: 100%;\n",
       "  overflow: auto;\n",
       "}\n",
       "\n",
       "#sk-container-id-1 input.sk-toggleable__control:checked~label.sk-toggleable__label-arrow:before {\n",
       "  content: \"▾\";\n",
       "}\n",
       "\n",
       "/* Pipeline/ColumnTransformer-specific style */\n",
       "\n",
       "#sk-container-id-1 div.sk-label input.sk-toggleable__control:checked~label.sk-toggleable__label {\n",
       "  color: var(--sklearn-color-text);\n",
       "  background-color: var(--sklearn-color-unfitted-level-2);\n",
       "}\n",
       "\n",
       "#sk-container-id-1 div.sk-label.fitted input.sk-toggleable__control:checked~label.sk-toggleable__label {\n",
       "  background-color: var(--sklearn-color-fitted-level-2);\n",
       "}\n",
       "\n",
       "/* Estimator-specific style */\n",
       "\n",
       "/* Colorize estimator box */\n",
       "#sk-container-id-1 div.sk-estimator input.sk-toggleable__control:checked~label.sk-toggleable__label {\n",
       "  /* unfitted */\n",
       "  background-color: var(--sklearn-color-unfitted-level-2);\n",
       "}\n",
       "\n",
       "#sk-container-id-1 div.sk-estimator.fitted input.sk-toggleable__control:checked~label.sk-toggleable__label {\n",
       "  /* fitted */\n",
       "  background-color: var(--sklearn-color-fitted-level-2);\n",
       "}\n",
       "\n",
       "#sk-container-id-1 div.sk-label label.sk-toggleable__label,\n",
       "#sk-container-id-1 div.sk-label label {\n",
       "  /* The background is the default theme color */\n",
       "  color: var(--sklearn-color-text-on-default-background);\n",
       "}\n",
       "\n",
       "/* On hover, darken the color of the background */\n",
       "#sk-container-id-1 div.sk-label:hover label.sk-toggleable__label {\n",
       "  color: var(--sklearn-color-text);\n",
       "  background-color: var(--sklearn-color-unfitted-level-2);\n",
       "}\n",
       "\n",
       "/* Label box, darken color on hover, fitted */\n",
       "#sk-container-id-1 div.sk-label.fitted:hover label.sk-toggleable__label.fitted {\n",
       "  color: var(--sklearn-color-text);\n",
       "  background-color: var(--sklearn-color-fitted-level-2);\n",
       "}\n",
       "\n",
       "/* Estimator label */\n",
       "\n",
       "#sk-container-id-1 div.sk-label label {\n",
       "  font-family: monospace;\n",
       "  font-weight: bold;\n",
       "  display: inline-block;\n",
       "  line-height: 1.2em;\n",
       "}\n",
       "\n",
       "#sk-container-id-1 div.sk-label-container {\n",
       "  text-align: center;\n",
       "}\n",
       "\n",
       "/* Estimator-specific */\n",
       "#sk-container-id-1 div.sk-estimator {\n",
       "  font-family: monospace;\n",
       "  border: 1px dotted var(--sklearn-color-border-box);\n",
       "  border-radius: 0.25em;\n",
       "  box-sizing: border-box;\n",
       "  margin-bottom: 0.5em;\n",
       "  /* unfitted */\n",
       "  background-color: var(--sklearn-color-unfitted-level-0);\n",
       "}\n",
       "\n",
       "#sk-container-id-1 div.sk-estimator.fitted {\n",
       "  /* fitted */\n",
       "  background-color: var(--sklearn-color-fitted-level-0);\n",
       "}\n",
       "\n",
       "/* on hover */\n",
       "#sk-container-id-1 div.sk-estimator:hover {\n",
       "  /* unfitted */\n",
       "  background-color: var(--sklearn-color-unfitted-level-2);\n",
       "}\n",
       "\n",
       "#sk-container-id-1 div.sk-estimator.fitted:hover {\n",
       "  /* fitted */\n",
       "  background-color: var(--sklearn-color-fitted-level-2);\n",
       "}\n",
       "\n",
       "/* Specification for estimator info (e.g. \"i\" and \"?\") */\n",
       "\n",
       "/* Common style for \"i\" and \"?\" */\n",
       "\n",
       ".sk-estimator-doc-link,\n",
       "a:link.sk-estimator-doc-link,\n",
       "a:visited.sk-estimator-doc-link {\n",
       "  float: right;\n",
       "  font-size: smaller;\n",
       "  line-height: 1em;\n",
       "  font-family: monospace;\n",
       "  background-color: var(--sklearn-color-background);\n",
       "  border-radius: 1em;\n",
       "  height: 1em;\n",
       "  width: 1em;\n",
       "  text-decoration: none !important;\n",
       "  margin-left: 1ex;\n",
       "  /* unfitted */\n",
       "  border: var(--sklearn-color-unfitted-level-1) 1pt solid;\n",
       "  color: var(--sklearn-color-unfitted-level-1);\n",
       "}\n",
       "\n",
       ".sk-estimator-doc-link.fitted,\n",
       "a:link.sk-estimator-doc-link.fitted,\n",
       "a:visited.sk-estimator-doc-link.fitted {\n",
       "  /* fitted */\n",
       "  border: var(--sklearn-color-fitted-level-1) 1pt solid;\n",
       "  color: var(--sklearn-color-fitted-level-1);\n",
       "}\n",
       "\n",
       "/* On hover */\n",
       "div.sk-estimator:hover .sk-estimator-doc-link:hover,\n",
       ".sk-estimator-doc-link:hover,\n",
       "div.sk-label-container:hover .sk-estimator-doc-link:hover,\n",
       ".sk-estimator-doc-link:hover {\n",
       "  /* unfitted */\n",
       "  background-color: var(--sklearn-color-unfitted-level-3);\n",
       "  color: var(--sklearn-color-background);\n",
       "  text-decoration: none;\n",
       "}\n",
       "\n",
       "div.sk-estimator.fitted:hover .sk-estimator-doc-link.fitted:hover,\n",
       ".sk-estimator-doc-link.fitted:hover,\n",
       "div.sk-label-container:hover .sk-estimator-doc-link.fitted:hover,\n",
       ".sk-estimator-doc-link.fitted:hover {\n",
       "  /* fitted */\n",
       "  background-color: var(--sklearn-color-fitted-level-3);\n",
       "  color: var(--sklearn-color-background);\n",
       "  text-decoration: none;\n",
       "}\n",
       "\n",
       "/* Span, style for the box shown on hovering the info icon */\n",
       ".sk-estimator-doc-link span {\n",
       "  display: none;\n",
       "  z-index: 9999;\n",
       "  position: relative;\n",
       "  font-weight: normal;\n",
       "  right: .2ex;\n",
       "  padding: .5ex;\n",
       "  margin: .5ex;\n",
       "  width: min-content;\n",
       "  min-width: 20ex;\n",
       "  max-width: 50ex;\n",
       "  color: var(--sklearn-color-text);\n",
       "  box-shadow: 2pt 2pt 4pt #999;\n",
       "  /* unfitted */\n",
       "  background: var(--sklearn-color-unfitted-level-0);\n",
       "  border: .5pt solid var(--sklearn-color-unfitted-level-3);\n",
       "}\n",
       "\n",
       ".sk-estimator-doc-link.fitted span {\n",
       "  /* fitted */\n",
       "  background: var(--sklearn-color-fitted-level-0);\n",
       "  border: var(--sklearn-color-fitted-level-3);\n",
       "}\n",
       "\n",
       ".sk-estimator-doc-link:hover span {\n",
       "  display: block;\n",
       "}\n",
       "\n",
       "/* \"?\"-specific style due to the `<a>` HTML tag */\n",
       "\n",
       "#sk-container-id-1 a.estimator_doc_link {\n",
       "  float: right;\n",
       "  font-size: 1rem;\n",
       "  line-height: 1em;\n",
       "  font-family: monospace;\n",
       "  background-color: var(--sklearn-color-background);\n",
       "  border-radius: 1rem;\n",
       "  height: 1rem;\n",
       "  width: 1rem;\n",
       "  text-decoration: none;\n",
       "  /* unfitted */\n",
       "  color: var(--sklearn-color-unfitted-level-1);\n",
       "  border: var(--sklearn-color-unfitted-level-1) 1pt solid;\n",
       "}\n",
       "\n",
       "#sk-container-id-1 a.estimator_doc_link.fitted {\n",
       "  /* fitted */\n",
       "  border: var(--sklearn-color-fitted-level-1) 1pt solid;\n",
       "  color: var(--sklearn-color-fitted-level-1);\n",
       "}\n",
       "\n",
       "/* On hover */\n",
       "#sk-container-id-1 a.estimator_doc_link:hover {\n",
       "  /* unfitted */\n",
       "  background-color: var(--sklearn-color-unfitted-level-3);\n",
       "  color: var(--sklearn-color-background);\n",
       "  text-decoration: none;\n",
       "}\n",
       "\n",
       "#sk-container-id-1 a.estimator_doc_link.fitted:hover {\n",
       "  /* fitted */\n",
       "  background-color: var(--sklearn-color-fitted-level-3);\n",
       "}\n",
       "</style><div id=\"sk-container-id-1\" class=\"sk-top-container\"><div class=\"sk-text-repr-fallback\"><pre>DecisionTreeClassifier(max_leaf_nodes=5, random_state=42)</pre><b>In a Jupyter environment, please rerun this cell to show the HTML representation or trust the notebook. <br />On GitHub, the HTML representation is unable to render, please try loading this page with nbviewer.org.</b></div><div class=\"sk-container\" hidden><div class=\"sk-item\"><div class=\"sk-estimator fitted sk-toggleable\"><input class=\"sk-toggleable__control sk-hidden--visually\" id=\"sk-estimator-id-1\" type=\"checkbox\" checked><label for=\"sk-estimator-id-1\" class=\"sk-toggleable__label fitted sk-toggleable__label-arrow fitted\">&nbsp;&nbsp;DecisionTreeClassifier<a class=\"sk-estimator-doc-link fitted\" rel=\"noreferrer\" target=\"_blank\" href=\"https://scikit-learn.org/1.4/modules/generated/sklearn.tree.DecisionTreeClassifier.html\">?<span>Documentation for DecisionTreeClassifier</span></a><span class=\"sk-estimator-doc-link fitted\">i<span>Fitted</span></span></label><div class=\"sk-toggleable__content fitted\"><pre>DecisionTreeClassifier(max_leaf_nodes=5, random_state=42)</pre></div> </div></div></div></div>"
      ],
      "text/plain": [
       "DecisionTreeClassifier(max_leaf_nodes=5, random_state=42)"
      ]
     },
     "execution_count": 50,
     "metadata": {},
     "output_type": "execute_result"
    }
   ],
   "source": [
    "optimal_depth = tree_depths[np.argmin(cross_val_error_rates)]\n",
    "\n",
    "optimal_tree = DecisionTreeClassifier(max_depth=optimal_depth, random_state=42)\n",
    "optimal_tree.fit(X_train, y_train)\n",
    "\n",
    "tree_with_five_nodes = DecisionTreeClassifier(max_leaf_nodes=5, random_state=42)\n",
    "tree_with_five_nodes.fit(X_train, y_train)"
   ]
  },
  {
   "cell_type": "markdown",
   "id": "f9298adc",
   "metadata": {},
   "source": [
    "Your answer:\n",
    "\n",
    "~~~\n",
    "Please write your answer in full sentences.\n",
    "\n",
    "\n",
    "~~~\n",
    "\n",
    "(j) Compare the training error rates between the pruned and unpruned trees. Which is higher?\n",
    "\n",
    "Your code:"
   ]
  },
  {
   "cell_type": "code",
   "execution_count": 54,
   "id": "5464079b",
   "metadata": {
    "Rmd_chunk_options": "echo=TRUE",
    "kernel": "Python3",
    "tags": [
     "report_cell"
    ]
   },
   "outputs": [],
   "source": [
    "optimal_tree_train_predictions = optimal_tree.predict(X_train)\n",
    "tree_with_five_nodes_train_predictions = tree_with_five_nodes.predict(X_train)"
   ]
  },
  {
   "cell_type": "markdown",
   "id": "a1071b7d",
   "metadata": {},
   "source": [
    "Your answer:\n",
    "\n",
    "~~~\n",
    "Please write your answer in full sentences.\n",
    "\n",
    "\n",
    "~~~\n",
    "\n",
    "\n",
    "(k) Compare the test error rates between the pruned and unpruned trees. Which is higher?\n",
    "\n",
    "Your code:"
   ]
  },
  {
   "cell_type": "code",
   "execution_count": 55,
   "id": "306fe3fc",
   "metadata": {
    "Rmd_chunk_options": "echo=TRUE",
    "kernel": "Python3",
    "tags": [
     "report_cell"
    ]
   },
   "outputs": [],
   "source": [
    "optimal_tree_training_error_rate = 1 - accuracy_score(y_train, optimal_tree_train_predictions)\n",
    "tree_with_five_nodes_training_error_rate = 1 - accuracy_score(y_train, tree_with_five_nodes_train_predictions)"
   ]
  },
  {
   "cell_type": "code",
   "execution_count": 56,
   "id": "e9b533ee",
   "metadata": {},
   "outputs": [
    {
     "data": {
      "text/plain": [
       "(4, 0.14500000000000002, 0.16249999999999998)"
      ]
     },
     "execution_count": 56,
     "metadata": {},
     "output_type": "execute_result"
    }
   ],
   "source": [
    "optimal_depth, optimal_tree_training_error_rate, tree_with_five_nodes_training_error_rate"
   ]
  },
  {
   "cell_type": "markdown",
   "id": "95d77e1f",
   "metadata": {},
   "source": [
    "Your answer:\n",
    "\n",
    "~~~\n",
    "Please write your answer in full sentences.\n",
    "\n",
    "\n",
    "~~~"
   ]
  },
  {
   "cell_type": "markdown",
   "id": "d8f310ba",
   "metadata": {},
   "source": [
    "### Hitters\n",
    "\n",
    "We now use boosting to predict Salary in the Hitters data set."
   ]
  },
  {
   "cell_type": "code",
   "execution_count": null,
   "id": "3c2407bc",
   "metadata": {
    "kernel": "Python3",
    "tags": [
     "report_cell"
    ]
   },
   "outputs": [],
   "source": [
    "Hitters = load_data(\"Hitters\")"
   ]
  },
  {
   "cell_type": "markdown",
   "id": "f5e16093",
   "metadata": {},
   "source": [
    "(a) Remove the observations for whom the salary information is unknown, and then log-transform the salaries.\n",
    "\n",
    "Your code:"
   ]
  },
  {
   "cell_type": "code",
   "execution_count": null,
   "id": "9f3fd328",
   "metadata": {
    "Rmd_chunk_options": "echo=TRUE",
    "kernel": "Python3",
    "tags": [
     "report_cell"
    ]
   },
   "outputs": [],
   "source": [
    "#\n",
    "#"
   ]
  },
  {
   "cell_type": "markdown",
   "id": "19c92289",
   "metadata": {},
   "source": [
    "Your answer:\n",
    "\n",
    "~~~\n",
    "Please write your answer in full sentences.\n",
    "\n",
    "\n",
    "~~~\n",
    "\n",
    "(b) Create a training set consisting of the first 200 observations, and a test set consisting of the remaining observations.\n",
    "\n",
    "Your code:"
   ]
  },
  {
   "cell_type": "code",
   "execution_count": null,
   "id": "69ffe30b",
   "metadata": {
    "Rmd_chunk_options": "echo=TRUE",
    "kernel": "Python3",
    "tags": [
     "report_cell"
    ]
   },
   "outputs": [],
   "source": [
    "#\n",
    "#"
   ]
  },
  {
   "cell_type": "markdown",
   "id": "9a501e56",
   "metadata": {},
   "source": [
    "Your answer:\n",
    "\n",
    "~~~\n",
    "Please write your answer in full sentences.\n",
    "\n",
    "\n",
    "~~~\n",
    "\n",
    "(c) Perform boosting on the training set with 1,000 trees for a range of values of the shrinkage parameter $lambda$. Produce a plot with different shrinkage values on the x-axis and the corresponding\n",
    "training set MSE on the y-axis.\n",
    "\n",
    "Your code:"
   ]
  },
  {
   "cell_type": "code",
   "execution_count": null,
   "id": "81d0ee7f",
   "metadata": {
    "Rmd_chunk_options": "echo=TRUE",
    "kernel": "Python3",
    "tags": [
     "report_cell"
    ]
   },
   "outputs": [],
   "source": [
    "#\n",
    "#"
   ]
  },
  {
   "cell_type": "markdown",
   "id": "f4d190d6",
   "metadata": {},
   "source": [
    "Your answer:\n",
    "\n",
    "~~~\n",
    "Please write your answer in full sentences.\n",
    "\n",
    "\n",
    "~~~\n",
    "\n",
    "(d) Produce a plot with different shrinkage values on the x-axis and the corresponding test set MSE on the y-axis.\n",
    "\n",
    "Your code:"
   ]
  },
  {
   "cell_type": "code",
   "execution_count": null,
   "id": "2c414155",
   "metadata": {
    "Rmd_chunk_options": "echo=TRUE",
    "kernel": "Python3",
    "tags": [
     "report_cell"
    ]
   },
   "outputs": [],
   "source": [
    "#\n",
    "#"
   ]
  },
  {
   "cell_type": "markdown",
   "id": "368a3863",
   "metadata": {},
   "source": [
    "Your answer:\n",
    "\n",
    "~~~\n",
    "Please write your answer in full sentences.\n",
    "\n",
    "\n",
    "~~~\n",
    "\n",
    "(e) Compare the test MSE of boosting to the test MSE that results from applying two of the regression approaches seen in Chapters 3 and 6.\n",
    "\n",
    "Your code:"
   ]
  },
  {
   "cell_type": "code",
   "execution_count": null,
   "id": "006e882c",
   "metadata": {
    "Rmd_chunk_options": "echo=TRUE",
    "kernel": "Python3",
    "tags": [
     "report_cell"
    ]
   },
   "outputs": [],
   "source": [
    "#\n",
    "#"
   ]
  },
  {
   "cell_type": "markdown",
   "id": "45676878",
   "metadata": {},
   "source": [
    "Your answer:\n",
    "\n",
    "~~~\n",
    "Please write your answer in full sentences.\n",
    "\n",
    "\n",
    "~~~\n",
    "\n",
    "(f) Which variables appear to be the most important predictors in the boosted model?\n",
    "\n",
    "Your code:"
   ]
  },
  {
   "cell_type": "code",
   "execution_count": null,
   "id": "e8fce9cc",
   "metadata": {
    "Rmd_chunk_options": "echo=TRUE",
    "kernel": "Python3",
    "tags": [
     "report_cell"
    ]
   },
   "outputs": [],
   "source": [
    "#\n",
    "#"
   ]
  },
  {
   "cell_type": "markdown",
   "id": "04dcbe94",
   "metadata": {},
   "source": [
    "Your answer:\n",
    "\n",
    "~~~\n",
    "Please write your answer in full sentences.\n",
    "\n",
    "\n",
    "~~~\n",
    "\n",
    "(g) Now apply bagging to the training set. What is the test set MSE for this approach?\n",
    "\n",
    "Your code:"
   ]
  },
  {
   "cell_type": "code",
   "execution_count": null,
   "id": "c73b6e57",
   "metadata": {
    "Rmd_chunk_options": "echo=TRUE",
    "kernel": "Python3",
    "tags": [
     "report_cell"
    ]
   },
   "outputs": [],
   "source": [
    "#\n",
    "#"
   ]
  },
  {
   "cell_type": "markdown",
   "id": "6cfe755e",
   "metadata": {},
   "source": [
    "Your answer:\n",
    "\n",
    "~~~\n",
    "Please write your answer in full sentences.\n",
    "\n",
    "\n",
    "~~~"
   ]
  },
  {
   "cell_type": "markdown",
   "id": "9f9e4279",
   "metadata": {},
   "source": [
    "### Caravan\n",
    "\n",
    "This question uses the `Caravan` data set."
   ]
  },
  {
   "cell_type": "code",
   "execution_count": null,
   "id": "42ff0a94",
   "metadata": {
    "kernel": "Python3",
    "tags": [
     "report_cell"
    ]
   },
   "outputs": [],
   "source": [
    "Caravan = load_data(\"Caravan\")"
   ]
  },
  {
   "cell_type": "markdown",
   "id": "6e5ff16a",
   "metadata": {},
   "source": [
    "(a) Create a training set consisting of the first 1,000 observations, and a test set consisting of the remaining observations.\n",
    "\n",
    "Your code:"
   ]
  },
  {
   "cell_type": "code",
   "execution_count": null,
   "id": "a63adff6",
   "metadata": {
    "Rmd_chunk_options": "echo=TRUE",
    "kernel": "Python3",
    "tags": [
     "report_cell"
    ]
   },
   "outputs": [],
   "source": [
    "#\n",
    "#"
   ]
  },
  {
   "cell_type": "markdown",
   "id": "50a4dba8",
   "metadata": {},
   "source": [
    "(b) Fit a boosting model to the training set with `Purchase` as the response and the other variables as predictors. Use 1,000 trees, and a shrinkage value of 0.01. Which predictors appear to be the most important?\n",
    "\n",
    "Your code:"
   ]
  },
  {
   "cell_type": "code",
   "execution_count": null,
   "id": "22a7be6b",
   "metadata": {
    "Rmd_chunk_options": "echo=TRUE",
    "kernel": "Python3",
    "tags": [
     "report_cell"
    ]
   },
   "outputs": [],
   "source": [
    "#\n",
    "#"
   ]
  },
  {
   "cell_type": "markdown",
   "id": "60610372",
   "metadata": {},
   "source": [
    "Your answer:\n",
    "\n",
    "~~~\n",
    "Please write your answer in full sentences.\n",
    "\n",
    "\n",
    "~~~\n",
    "\n",
    "\n",
    "(c) Use the boosting model to predict the response on the test data. Predict that a person will make a purchase if the estimated probability of purchase is greater than 20 %. Form a confusion matrix. What fraction of the people predicted to make a purchase do in fact make one? How does this compare with the results obtained from applying KNN or logistic regression to this data set?\n",
    "\n",
    "Your code:"
   ]
  },
  {
   "cell_type": "code",
   "execution_count": null,
   "id": "0dc8daad",
   "metadata": {
    "Rmd_chunk_options": "echo=TRUE",
    "kernel": "Python3",
    "tags": [
     "report_cell"
    ]
   },
   "outputs": [],
   "source": [
    "#\n",
    "#"
   ]
  },
  {
   "cell_type": "markdown",
   "id": "98f6f5d6",
   "metadata": {},
   "source": [
    "Your answer:\n",
    "\n",
    "~~~\n",
    "Please write your answer in full sentences.\n",
    "\n",
    "\n",
    "~~~"
   ]
  },
  {
   "cell_type": "markdown",
   "id": "adf43ae7",
   "metadata": {},
   "source": [
    "## Additional Material"
   ]
  },
  {
   "cell_type": "markdown",
   "id": "5625c9a0",
   "metadata": {},
   "source": [
    "In this section we will look at other popular tree based methods that are readily available.\n",
    "For classification we will use the [iris dataset](https://scikit-learn.org/stable/auto_examples/datasets/plot_iris_dataset.html) ."
   ]
  },
  {
   "cell_type": "code",
   "execution_count": null,
   "id": "9f7364b1",
   "metadata": {
    "Rmd_chunk_options": "fig.width=12,fig.height=10",
    "kernel": "Python3",
    "tags": [
     "report_cell"
    ]
   },
   "outputs": [],
   "source": [
    "from sklearn import datasets\n",
    "from sklearn.model_selection import train_test_split\n",
    "\n",
    "iris = datasets.load_iris()\n",
    "iris_X=pd.DataFrame(iris.data,columns=iris.feature_names)\n",
    "iris_y=pd.DataFrame(iris.target,columns=['Class'])\n",
    "\n",
    "# split the data\n",
    "X_train0, X_test, y_train0, y_test = train_test_split(iris_X, iris_y, test_size=0.33, random_state=42)\n",
    "trainData = pd.concat([X_train0, y_train0], axis=1)\n",
    "testData  = pd.concat([X_test, y_test], axis=1)"
   ]
  },
  {
   "cell_type": "markdown",
   "id": "10a138e7",
   "metadata": {},
   "source": [
    "### CART graph\n",
    "\n",
    "https://github.com/Sidon/Sidon.github.io/blob/master/_posts/dtree-w1.ipynb"
   ]
  },
  {
   "cell_type": "code",
   "execution_count": null,
   "id": "e670e01d",
   "metadata": {
    "kernel": "Python3",
    "tags": [
     "report_cell"
    ]
   },
   "outputs": [],
   "source": [
    "import matplotlib.pyplot as plt\n",
    "import itertools\n",
    "def plot_confusion_matrix(cm, classes,\n",
    "                          normalize=False,\n",
    "                          title='Confusion matrix',\n",
    "                          cmap=plt.cm.Blues):\n",
    "    \"\"\"\n",
    "    This function prints and plots the confusion matrix.\n",
    "    Normalization can be applied by setting `normalize=True`.\n",
    "    \"\"\"\n",
    "    plt.imshow(cm, interpolation='nearest', cmap=cmap)\n",
    "    plt.title(title)\n",
    "    plt.colorbar()\n",
    "    tick_marks = np.arange(len(classes))\n",
    "    plt.xticks(tick_marks, classes, rotation=45)\n",
    "    plt.yticks(tick_marks, classes)\n",
    "    if normalize:\n",
    "        cm = cm.astype('float') / cm.sum(axis=1)[:, np.newaxis]\n",
    "        print(\"Normalized confusion matrix\")\n",
    "    else:\n",
    "        print('Confusion matrix, without normalization')\n",
    "\n",
    "    print(cm)\n",
    "    thresh = cm.max() / 2.\n",
    "    for i, j in itertools.product(range(cm.shape[0]), range(cm.shape[1])):\n",
    "        plt.text(j, i, cm[i, j],\n",
    "                 horizontalalignment=\"center\",\n",
    "                 color=\"white\" if cm[i, j] > thresh else \"black\")\n",
    "    plt.tight_layout()\n",
    "    plt.ylabel('True')\n",
    "    plt.xlabel('Predicted')"
   ]
  },
  {
   "cell_type": "code",
   "execution_count": null,
   "id": "8b5ea923",
   "metadata": {
    "Rmd_chunk_options": "fig.width=12,fig.height=10",
    "kernel": "Python3",
    "tags": [
     "report_cell"
    ]
   },
   "outputs": [],
   "source": [
    "# Fit CART  Model\n",
    "from sklearn.tree import DecisionTreeClassifier\n",
    "from sklearn import tree\n",
    "from io import StringIO\n",
    "import pydotplus\n",
    "import sklearn\n",
    "import sklearn.metrics\n",
    "from IPython.display import Image\n",
    "out = StringIO()\n",
    "clf = DecisionTreeClassifier()\n",
    "clf = clf.fit(X_train0,y_train0)\n",
    "\n",
    "# you will need to install graphviz\n",
    "tree.export_graphviz(clf, out_file=out, feature_names=iris.feature_names,class_names=['0','1','2'],\n",
    "                     filled=True, rounded=True, special_characters=True)\n",
    "\n",
    "graph=pydotplus.graph_from_dot_data(out.getvalue())\n",
    "Image(graph.create_png())\n",
    "\n",
    "predictions=clf.predict(X_test)\n",
    "confusion_matrix = sklearn.metrics.confusion_matrix(y_test,predictions)\n",
    "plot_confusion_matrix(confusion_matrix,['Setosa','Versicolour','Virginica'])"
   ]
  },
  {
   "cell_type": "markdown",
   "id": "603c86f4",
   "metadata": {},
   "source": [
    "### XGBoost\n",
    "\n",
    "XGBoost became popular due to its success in Kaggle competitions.  It's essentially a gradient boosting but implemented to perform better out of the box.  Some of the nice features include:\n",
    "\n",
    "- Default regularization\n",
    "- Tree growing and pruning scheme allows for multiple cuts\n",
    "- Computational efficiency by parallelization\n",
    "- A couple of default choices to make it easier to use\n",
    "- Handles missing data\n",
    "\n",
    "However, if you want to go deeper, there are some challenges/concerns.\n",
    "\n",
    "- Hyperparameter tuning is hard\n",
    "- Missing data imputation scheme is concerning\n",
    "- Cannot handle categorical variables\n",
    "\n",
    "Here is it used for the iris data."
   ]
  },
  {
   "cell_type": "code",
   "execution_count": null,
   "id": "3db5080f",
   "metadata": {
    "kernel": "Python3",
    "tags": [
     "report_cell"
    ]
   },
   "outputs": [],
   "source": [
    "import xgboost as xgb\n",
    "\n",
    "param = {'max_depth': 2, 'eta': 1, 'objective': 'multi:softmax'}\n",
    "param['nthread'] = 4\n",
    "param['eval_metric'] = 'auc'\n",
    "param['num_class'] = 3\n",
    "\n",
    "num_round = 10\n",
    "\n",
    "dtrain = xgb.DMatrix(X_train0, label=y_train0)\n",
    "dtest = xgb.DMatrix(X_test, label=y_test)\n",
    "evallist = [(dtrain, 'train'), (dtest, 'eval')]\n",
    "bst = xgb.train(param, dtrain, num_round, evallist)\n",
    "ypred = bst.predict(dtest)"
   ]
  },
  {
   "cell_type": "markdown",
   "id": "8b752540",
   "metadata": {},
   "source": [
    "What gets unwieldy is when you start to tune the parameters.\n",
    "Here is the list of parameters used.  Not all of them need tuning, but I hope you understand.\n",
    "\n",
    "- General Parameters that define the overall functionality of XGBoost.\n",
    "  - booster [default=gbtree]: type of model\n",
    "  - silent [default=0]: display log?\n",
    "  - nthread [default to the maximum number of threads available if not set]: number of cores\n",
    "- Learning Task Parameters define the optimization objective and the metric to be calculated at each step.\n",
    "  - objective [default=reg:linear] the loss function to be minimized.\n",
    "  - eval_metric [ default according to objective ] The metric for validation data.\n",
    "  - seed [default=0] The random number seed.\n",
    "- Booster Parameters\n",
    "  - eta [default=0.3]. Analogous to the learning rate in GBM\n",
    "  - min_child_weight [default=1] is the minimum sum of weights of all observations required in a child.\n",
    "  - max_depth [default=6] The maximum depth of a tree, same as GBM.\n",
    "  - max_leaf_nodes  The maximum number of terminal nodes or leaves in a tree.\n",
    "  - gamma [default=0] is the minimum loss reduction required to make a split.\n",
    "  - max_delta_step [default=0]  If it is set to a positive value makes the update step more conservative.\n",
    "  - subsample [default=1] the fraction of observations randomly sampled for each tree.\n",
    "  - colsample_bytree [default=1] is the fraction of columns randomly sampled for each tree.\n",
    "  - colsample_bylevel [default=1] the subsample ratio of columns for each split, in each level.\n",
    "  - lambda [default=1]  L2 regularization term on weights (analogous to Ridge regression)\n",
    "  - alpha [default=0] L1 regularization term on weight (analogous to Lasso regression)\n",
    "  - scale_pos_weight [default=1] >0 for high class imbalance as it helps in faster convergence.\n",
    "\n",
    "Because of this, there is an automatic versiong of xgboost exists. But I was not able to install it on my machine."
   ]
  },
  {
   "cell_type": "code",
   "execution_count": null,
   "id": "93bab0c3",
   "metadata": {
    "Rmd_chunk_options": "eval=FALSE",
    "kernel": "Python3",
    "tags": [
     "report_cell"
    ]
   },
   "outputs": [],
   "source": [
    "#from autoxgb import AutoXGB"
   ]
  },
  {
   "cell_type": "markdown",
   "id": "f552a668",
   "metadata": {},
   "source": [
    "### catboost\n",
    "\n",
    "Catboost is another popular boosting method that in my view popular due to well thought out implementation.\n",
    "The three features that distingishes itself from the other similar models are\n",
    "\n",
    "- Symmetric tree\n",
    "- Ordered Boosting\n",
    "- Categorical Feature Engineering\n",
    "\n",
    "\n",
    " https://catboost.ai/en/docs/concepts/r-usages-examples"
   ]
  },
  {
   "cell_type": "code",
   "execution_count": null,
   "id": "081fd8d5",
   "metadata": {
    "Rmd_chunk_options": "eval=FALSE",
    "kernel": "Python3",
    "tags": [
     "report_cell"
    ]
   },
   "outputs": [],
   "source": [
    "# library(catboost)\n",
    "# # load data\n",
    "# set.seed(1)\n",
    "# idx=sample(1:nrow(iris),nrow(iris)*.7)\n",
    "# train=iris[idx,]\n",
    "# test=iris[-idx,]\n",
    "# fit_control <- caret::trainControl(\n",
    "#   method = \"cv\",\n",
    "#   number = 3,\n",
    "#   search = \"random\",\n",
    "#   classProbs = TRUE\n",
    "# )\n",
    "# # set grid options\n",
    "# grid <- expand.grid(\n",
    "#   depth = c(4, 6, 8),\n",
    "#   learning_rate = 0.1,\n",
    "#   l2_leaf_reg = 0.1,\n",
    "#   rsm = 0.95,\n",
    "#   border_count = 64,\n",
    "#   iterations = 10\n",
    "# )\n",
    "# model <- caret::train(\n",
    "#   x = train[,-5],\n",
    "#   y = train[,5],\n",
    "#   method = catboost.caret,\n",
    "#   metric = \"Accuracy\",\n",
    "#   maximize = TRUE,\n",
    "#   preProc = NULL,\n",
    "#   tuneGrid = grid,\n",
    "#   tuneLength = 30,\n",
    "#   trControl = fit_control\n",
    "# )\n",
    "# table(test$Species,predict(model,test))"
   ]
  },
  {
   "cell_type": "markdown",
   "id": "02ebb07f",
   "metadata": {},
   "source": [
    "### Ensemble model\n",
    "\n",
    "Bagging, Random Forest, and Boosting are examples of ensemble models.\n",
    "The idea is to combine models to get a better result than any individual model can achieve.\n",
    "So far, we’ve combined the same models, but that need not be the case.\n",
    "One way to combine the results is to just average the outcomes from different models.\n",
    "But one need not trust the results from all models equally.\n",
    "An alternative way is to use the predictions as input into a regression model to create weights representing the level of trust in the model.\n",
    "\n",
    "Stacking is easy to implement but even easier if you use caret.\n",
    "For example, if you want to do 10 fold Repeated CV to fit CART, knn, logistic regression,Gaussian Naive Bayes and svc, then combine the results.\n",
    "\n",
    "You can find more details [here](https://machinelearningmastery.com/stacking-ensemble-machine-learning-with-python/)."
   ]
  },
  {
   "cell_type": "code",
   "execution_count": null,
   "id": "a0d28319",
   "metadata": {
    "kernel": "Python3",
    "tags": [
     "report_cell"
    ]
   },
   "outputs": [],
   "source": [
    "# pip install datapackage\n",
    "from datapackage import Package\n",
    "from sklearn.model_selection import RepeatedKFold\n",
    "from sklearn.linear_model import LogisticRegression\n",
    "from sklearn.neighbors import KNeighborsClassifier\n",
    "from sklearn.tree import DecisionTreeClassifier\n",
    "from sklearn.naive_bayes import GaussianNB\n",
    "from sklearn.svm import SVC\n",
    "from sklearn.model_selection import cross_val_score\n",
    "\n",
    "from sklearn.ensemble import StackingClassifier\n",
    "from matplotlib import pyplot\n",
    "\n",
    "package = Package('https://datahub.io/machine-learning/sonar/datapackage.json')\n",
    "resources = package.resources\n",
    "Sonar = pd.read_csv(resources[1].descriptor['path'])\n",
    "\n",
    "Sonar_y=Sonar.loc[:,\"Class\"]\n",
    "Sonar_x=Sonar.drop([\"Class\"], axis=1)\n",
    "\n",
    "level0 = list()\n",
    "level0.append(('lr', LogisticRegression()))\n",
    "level0.append(('knn', KNeighborsClassifier()))\n",
    "level0.append(('cart', DecisionTreeClassifier()))\n",
    "level0.append(('svm', SVC()))\n",
    "level0.append(('bayes', GaussianNB()))\n",
    "# define meta learner model\n",
    "level1 = LogisticRegression()\n",
    "stacking = StackingClassifier(estimators=level0, final_estimator=level1, cv=5)\n",
    "cv = RepeatedKFold(n_splits=10, n_repeats=3)\n",
    "scores = cross_val_score(stacking, Sonar_x, Sonar_y, scoring='accuracy', cv=cv, n_jobs=-1, error_score='raise')"
   ]
  }
 ],
 "metadata": {
  "Rmd_chunk_options": {
   "author": "Masanao Yajima",
   "date": "2023-01-05",
   "output": "html_document",
   "title": "Tree based Ensemble"
  },
  "kernelspec": {
   "display_name": "Python 3 (ipykernel)",
   "language": "python",
   "name": "python3"
  },
  "language_info": {
   "codemirror_mode": {
    "name": "ipython",
    "version": 3
   },
   "file_extension": ".py",
   "mimetype": "text/x-python",
   "name": "python",
   "nbconvert_exporter": "python",
   "pygments_lexer": "ipython3",
   "version": "3.9.7"
  },
  "sos": {
   "kernels": [
    [
     "SoS",
     "sos",
     "",
     ""
    ],
    [
     "R",
     "ir",
     "",
     ""
    ],
    [
     "css",
     "css",
     "",
     ""
    ],
    [
     "Python3",
     "ir",
     "",
     ""
    ]
   ]
  }
 },
 "nbformat": 4,
 "nbformat_minor": 5
}
